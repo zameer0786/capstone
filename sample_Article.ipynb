{
 "cells": [
  {
   "cell_type": "code",
   "execution_count": 1,
   "metadata": {},
   "outputs": [],
   "source": [
    "import pandas as pd\n",
    "import numpy as np"
   ]
  },
  {
   "cell_type": "code",
   "execution_count": 40,
   "metadata": {},
   "outputs": [],
   "source": [
    "\n",
    "stri='London | Mumbai, July 27, 2020: Tata Consultancy Services (TCS), (BSE: 532540, NSE: TCS) a leading global IT services, consulting and business solutions organisation, has supported the Engineering Development Trust (EDT), its long-term STEM skills partner, launch virtual educational programmes for school and college students, through its TCS iON™ Digital Learning Platform.Due to COVID-19 restrictions, experiences of work, technical skills trainings, and EDT programmes have become inaccessible for many students. To address this gap, EDT has adapted its summer programmes to become virtual by leveraging the TCS iON platform.EDT is working with 20 UK universities and 300 corporate partners to deliver the programmes. This summer will see the launch of four virtual programmes, including university taster days, experiences of work and activities, to help students interested in STEM subjects gain meaningful experiences and accreditation through Industrial Cadets. EDT and TCS have worked with universities and corporate partners to create virtual university taster courses on the TCS iON Digital Learning Platform, enabling participants to complete them at their own pace. On completion, students are awarded a Silver Industrial Cadet certification.The TCS iON platform is also extending the reach of TCS’ long established Digital Explorers programme, conducted in partnership with EDT, that aims to inspire the next generation to pursue careers in STEM. While the in-person programme typically saw around 700 participants, the first virtual event already has 9,000 registrations so far. It will include Industrial Cadets virtual work experience and experience days throughout the summer in England and into the autumn term in Scotland. Upon completion, students will receive a Challenger Industrial Cadet certification.“TCS iON is partnering with education institutions across the world to help them navigate the current challenges, and also transition into a digital era where teaching and learning do not have physical boundaries,” said Venguswamy Ramaswamy, Global Head, TCS iON. “We are delighted to once again work with EDT on programmes that inspire interest in STEM education and careers among students in UK. Virtual delivery democratises access, allowing us to reach more students than ever before.”“Experiences of work and connections with industry are critical in providing students the chance to make their own choices for their future and we are delighted to be able to offer these opportunities to young people interested in STEM subjects in a new way,” said Julie Feest, CEO, EDT. “By leveraging TCS iON platform, we are reaching students in new ways and offering them really exciting insights into the world of work. We hope that our virtual programmes will help us broaden our impact across hard to reach areas and focus on disadvantaged young people to answer the issues of widening social divide, equipping them with invaluable skills, introducing them to new people and ultimately making them more employable. I’m excited to see what the future holds for this new way of providing our programmes, and how it can benefit young people to open their eyes to what could be possible for them and their future.”The TCS iON Digital Learning Platform is used by more than 5 million learners worldwide. It enables corporates, institutes and industry mentors to collaborate on various programmes to teach and inspire the tech leaders of the future.Find out more about TCS iON: https://learning.tcsionhub.uk/iDH/uk/home.Find out more about the virtual programmes and register: https://membersarea.etrust.org.uk/content/digital-explorers-june-2020.About TCS iON.TCS iON is a strategic business unit of Tata Consultancy Services focused on enabling institutions, government departments and organizations from multiple industry sectors to be efficient in their recruitment/admissions process, learning and skilling and overall business operations with the use of ‘Phygital’ platforms. These are platforms that overlay digital technologies over physical assets. TCS iON delivers this with a unique IT-as-a-Service model that provides easy-to-use, secured, integrated, and hosted solutions in a build-as-you-grow and pay-as-you-use business model. Serving clients with the help of best practices gained through TCS’ global experience, deep domestic market exposure along with industry leading technology expertise.About Tata Consultancy Services Ltd. (TCS)Tata Consultancy Services is an IT services, consulting and business solutions organization that has been partnering with many of the world’s largest businesses in their transformation journeys for over 50 years. TCS offers a consulting-led, cognitive powered, integrated portfolio of business, technology and engineering services and solutions. This is delivered through its unique Location Independent AgileTM delivery model, recognized as a benchmark of excellence in software development.A part of the Tata group,Indias largest multinational business group, TCS has over 443,000 of the world’s best-trained consultants in 46 countries. The company generated consolidated revenues of US $22 billion in the fiscal year ended March 31, 2020, and is listed on the BSE (formerly Bombay Stock Exchange) and the NSE (National Stock Exchange) in India.TCS proactive stance on climate change and award-winning work with communities across the world have earned it a place in leading sustainability indices such as the Dow Jones Sustainability Index (DJSI), MSCI Global Sustainability Index and the FTSE4Good Emerging Index. For more information, visit us at www.tcs.com.www.tcs.com.To stay up-to-date on TCS global news, follow @TCS_News. About EDT.EDT is a UK wide education charity, creating pathways through education to employment, working in collaboration with industry, education and partners to provide opportunities for young people of all ages providing 40,000 experiences each year.We are working to our vision of a society where young people across the UK have equal access to engage with STE(A)M* activities and achieve their potential in STEM careers and opportunities for further study.Through experience days, projects, placements and Industrial Cadets accredited programmes, we Inspire young minds ,Unlock potential,Promote achievement,Encourage attainment.Bridge the gap between industry and education.We keep young people at the heart of what we do, providing industry informed, curriculum enhancing learning experiences to help them fulfil their potential and make informed decisions about their future.About Industrial Cadets.Industrial Cadets is a nationally recognised benchmark accreditation. EDT developed Industrial Cadets with support from industry by mapping STEM activities against a skills and competency framework. We are committed to offering a learner pathway that encourages young people to have multiple, high quality interactions with businesses, through building successful partnerships with employers and educators across the UK. His Royal Highness The Prince of Wales is Patron of Industrial Cadets'"
   ]
  },
  {
   "cell_type": "code",
   "execution_count": 41,
   "metadata": {
    "scrolled": true
   },
   "outputs": [
    {
     "data": {
      "text/plain": [
       "'London | Mumbai, July 27, 2020: Tata Consultancy Services (TCS), (BSE: 532540, NSE: TCS) a leading global IT services, consulting and business solutions organisation, has supported the Engineering Development Trust (EDT), its long-term STEM skills partner, launch virtual educational programmes for school and college students, through its TCS iON™ Digital Learning Platform.Due to COVID-19 restrictions, experiences of work, technical skills trainings, and EDT programmes have become inaccessible for many students. To address this gap, EDT has adapted its summer programmes to become virtual by leveraging the TCS iON platform.EDT is working with 20 UK universities and 300 corporate partners to deliver the programmes. This summer will see the launch of four virtual programmes, including university taster days, experiences of work and activities, to help students interested in STEM subjects gain meaningful experiences and accreditation through Industrial Cadets. EDT and TCS have worked with universities and corporate partners to create virtual university taster courses on the TCS iON Digital Learning Platform, enabling participants to complete them at their own pace. On completion, students are awarded a Silver Industrial Cadet certification.The TCS iON platform is also extending the reach of TCS’ long established Digital Explorers programme, conducted in partnership with EDT, that aims to inspire the next generation to pursue careers in STEM. While the in-person programme typically saw around 700 participants, the first virtual event already has 9,000 registrations so far. It will include Industrial Cadets virtual work experience and experience days throughout the summer in England and into the autumn term in Scotland. Upon completion, students will receive a Challenger Industrial Cadet certification.“TCS iON is partnering with education institutions across the world to help them navigate the current challenges, and also transition into a digital era where teaching and learning do not have physical boundaries,” said Venguswamy Ramaswamy, Global Head, TCS iON. “We are delighted to once again work with EDT on programmes that inspire interest in STEM education and careers among students in UK. Virtual delivery democratises access, allowing us to reach more students than ever before.”“Experiences of work and connections with industry are critical in providing students the chance to make their own choices for their future and we are delighted to be able to offer these opportunities to young people interested in STEM subjects in a new way,” said Julie Feest, CEO, EDT. “By leveraging TCS iON platform, we are reaching students in new ways and offering them really exciting insights into the world of work. We hope that our virtual programmes will help us broaden our impact across hard to reach areas and focus on disadvantaged young people to answer the issues of widening social divide, equipping them with invaluable skills, introducing them to new people and ultimately making them more employable. I’m excited to see what the future holds for this new way of providing our programmes, and how it can benefit young people to open their eyes to what could be possible for them and their future.”The TCS iON Digital Learning Platform is used by more than 5 million learners worldwide. It enables corporates, institutes and industry mentors to collaborate on various programmes to teach and inspire the tech leaders of the future.Find out more about TCS iON: https://learning.tcsionhub.uk/iDH/uk/home.Find out more about the virtual programmes and register: https://membersarea.etrust.org.uk/content/digital-explorers-june-2020.About TCS iON.TCS iON is a strategic business unit of Tata Consultancy Services focused on enabling institutions, government departments and organizations from multiple industry sectors to be efficient in their recruitment/admissions process, learning and skilling and overall business operations with the use of ‘Phygital’ platforms. These are platforms that overlay digital technologies over physical assets. TCS iON delivers this with a unique IT-as-a-Service model that provides easy-to-use, secured, integrated, and hosted solutions in a build-as-you-grow and pay-as-you-use business model. Serving clients with the help of best practices gained through TCS’ global experience, deep domestic market exposure along with industry leading technology expertise.About Tata Consultancy Services Ltd. (TCS)Tata Consultancy Services is an IT services, consulting and business solutions organization that has been partnering with many of the world’s largest businesses in their transformation journeys for over 50 years. TCS offers a consulting-led, cognitive powered, integrated portfolio of business, technology and engineering services and solutions. This is delivered through its unique Location Independent AgileTM delivery model, recognized as a benchmark of excellence in software development.A part of the Tata group,Indias largest multinational business group, TCS has over 443,000 of the world’s best-trained consultants in 46 countries. The company generated consolidated revenues of US $22 billion in the fiscal year ended March 31, 2020, and is listed on the BSE (formerly Bombay Stock Exchange) and the NSE (National Stock Exchange) in India.TCS proactive stance on climate change and award-winning work with communities across the world have earned it a place in leading sustainability indices such as the Dow Jones Sustainability Index (DJSI), MSCI Global Sustainability Index and the FTSE4Good Emerging Index. For more information, visit us at www.tcs.com.www.tcs.com.To stay up-to-date on TCS global news, follow @TCS_News. About EDT.EDT is a UK wide education charity, creating pathways through education to employment, working in collaboration with industry, education and partners to provide opportunities for young people of all ages providing 40,000 experiences each year.We are working to our vision of a society where young people across the UK have equal access to engage with STE(A)M* activities and achieve their potential in STEM careers and opportunities for further study.Through experience days, projects, placements and Industrial Cadets accredited programmes, we Inspire young minds ,Unlock potential,Promote achievement,Encourage attainment.Bridge the gap between industry and education.We keep young people at the heart of what we do, providing industry informed, curriculum enhancing learning experiences to help them fulfil their potential and make informed decisions about their future.About Industrial Cadets.Industrial Cadets is a nationally recognised benchmark accreditation. EDT developed Industrial Cadets with support from industry by mapping STEM activities against a skills and competency framework. We are committed to offering a learner pathway that encourages young people to have multiple, high quality interactions with businesses, through building successful partnerships with employers and educators across the UK. His Royal Highness The Prince of Wales is Patron of Industrial Cadets'"
      ]
     },
     "execution_count": 41,
     "metadata": {},
     "output_type": "execute_result"
    }
   ],
   "source": [
    "(stri)"
   ]
  },
  {
   "cell_type": "code",
   "execution_count": 13,
   "metadata": {},
   "outputs": [
    {
     "name": "stderr",
     "output_type": "stream",
     "text": [
      "[nltk_data] Downloading package stopwords to\n",
      "[nltk_data]     /Users/zameershaik/nltk_data...\n",
      "[nltk_data]   Unzipping corpora/stopwords.zip.\n"
     ]
    },
    {
     "data": {
      "text/plain": [
       "True"
      ]
     },
     "execution_count": 13,
     "metadata": {},
     "output_type": "execute_result"
    }
   ],
   "source": [
    "# Stop Words\n",
    "import nltk\n",
    "nltk.download('stopwords')"
   ]
  },
  {
   "cell_type": "code",
   "execution_count": 14,
   "metadata": {},
   "outputs": [
    {
     "name": "stderr",
     "output_type": "stream",
     "text": [
      "[nltk_data] Downloading package wordnet to\n",
      "[nltk_data]     /Users/zameershaik/nltk_data...\n",
      "[nltk_data]   Unzipping corpora/wordnet.zip.\n"
     ]
    }
   ],
   "source": [
    "#TExt Preprocessing\n",
    "import re\n",
    "import nltk\n",
    "\n",
    "nltk.download('wordnet')\n",
    "from nltk.corpus import stopwords\n",
    "from nltk.stem.porter import PorterStemmer\n",
    "from nltk.tokenize import RegexpTokenizer\n",
    "\n",
    "from nltk.stem.wordnet import WordNetLemmatizer"
   ]
  },
  {
   "cell_type": "code",
   "execution_count": 15,
   "metadata": {},
   "outputs": [],
   "source": [
    "stop_words = set(stopwords.words(\"english\"))"
   ]
  },
  {
   "cell_type": "code",
   "execution_count": 18,
   "metadata": {},
   "outputs": [
    {
     "name": "stdout",
     "output_type": "stream",
     "text": [
      "Collecting rake-nltk\n",
      "  Downloading https://files.pythonhosted.org/packages/8e/c4/b4ff57e541ac5624ad4b20b89c2bafd4e98f29fd83139f3a81858bdb3815/rake_nltk-1.0.4.tar.gz\n",
      "Requirement already satisfied: nltk in /Users/zameershaik/Applications/anaconda3/lib/python3.7/site-packages (from rake-nltk) (3.5)\n",
      "Requirement already satisfied: joblib in /Users/zameershaik/Applications/anaconda3/lib/python3.7/site-packages (from nltk->rake-nltk) (0.13.2)\n",
      "Requirement already satisfied: regex in /Users/zameershaik/Applications/anaconda3/lib/python3.7/site-packages (from nltk->rake-nltk) (2020.6.8)\n",
      "Requirement already satisfied: click in /Users/zameershaik/Applications/anaconda3/lib/python3.7/site-packages (from nltk->rake-nltk) (7.0)\n",
      "Requirement already satisfied: tqdm in /Users/zameershaik/Applications/anaconda3/lib/python3.7/site-packages (from nltk->rake-nltk) (4.32.1)\n",
      "Building wheels for collected packages: rake-nltk\n",
      "  Building wheel for rake-nltk (setup.py) ... \u001b[?25ldone\n",
      "\u001b[?25h  Stored in directory: /Users/zameershaik/Library/Caches/pip/wheels/ef/92/fc/271b3709e71a96ffe934b27818946b795ac6b9b8ff8682483f\n",
      "Successfully built rake-nltk\n",
      "Installing collected packages: rake-nltk\n",
      "Successfully installed rake-nltk-1.0.4\n"
     ]
    }
   ],
   "source": [
    "!pip install rake-nltk"
   ]
  },
  {
   "cell_type": "code",
   "execution_count": 19,
   "metadata": {},
   "outputs": [],
   "source": [
    "from rake_nltk import Rake\n",
    "r = Rake()"
   ]
  },
  {
   "cell_type": "code",
   "execution_count": 22,
   "metadata": {},
   "outputs": [],
   "source": [
    "#Example\n",
    "a=r.extract_keywords_from_text(stri)\n",
    "b=r.get_ranked_phrases()\n",
    "c=r.get_ranked_phrases_with_scores()\n"
   ]
  },
  {
   "cell_type": "code",
   "execution_count": 21,
   "metadata": {},
   "outputs": [
    {
     "data": {
      "text/plain": [
       "[(46.5, 'person programme typically saw around 700 participants'),\n",
       " (37.5, 'challenger industrial cadet certification .“ tcs ion'),\n",
       " (34.0, 'physical boundaries ,” said venguswamy ramaswamy'),\n",
       " (33.31428571428572, 'tcs ’ long established digital explorers programme'),\n",
       " (31.0, 'new way ,” said julie feest'),\n",
       " (30.166666666666668, 'unique location independent agiletm delivery model'),\n",
       " (27.4, 'djsi ), msci global sustainability index'),\n",
       " (26.3, 'tcs ion ™ digital learning platform'),\n",
       " (25.0, 'include industrial cadets virtual work experience'),\n",
       " (25.0, 'deep domestic market exposure along'),\n",
       " (23.0, 'fiscal year ended march 31'),\n",
       " (22.75, 'create virtual university taster courses'),\n",
       " (20.3, 'tcs ion digital learning platform'),\n",
       " (20.0, 'indias largest multinational business group'),\n",
       " (19.5, 'silver industrial cadet certification'),\n",
       " (19.014285714285716, 'stem subjects gain meaningful experiences'),\n",
       " (16.666666666666664, 'dow jones sustainability index'),\n",
       " (16.0, 'including university taster days'),\n",
       " (16.0, 'company generated consolidated revenues'),\n",
       " (16.0, '5 million learners worldwide'),\n",
       " (15.75, 'virtual delivery democratises access'),\n",
       " (15.75, 'first virtual event already'),\n",
       " (15.0, 'leveraging tcs ion platform'),\n",
       " (15.0, 'industrial cadets accredited programmes'),\n",
       " (15.0, 'formerly bombay stock exchange'),\n",
       " (14.75, 'edt developed industrial cadets'),\n",
       " (14.600000000000001, 'curriculum enhancing learning experiences'),\n",
       " (14.464285714285715, 'tcs ’ global experience'),\n",
       " (14.1, '‘ phygital ’ platforms'),\n",
       " (13.716666666666665, 'tata consultancy services ltd'),\n",
       " (13.716666666666665, 'tata consultancy services focused'),\n",
       " (13.166666666666666, 'uk wide education charity'),\n",
       " (13.0, 'nationally recognised benchmark accreditation'),\n",
       " (12.75, 'launch virtual educational programmes'),\n",
       " (12.5, 'tcs ion platform'),\n",
       " (12.214285714285715, 'term stem skills partner'),\n",
       " (12.1, 'industry leading technology expertise'),\n",
       " (11.0, 'tcs ion delivers'),\n",
       " (10.333333333333332, 'leading sustainability indices'),\n",
       " (10.333333333333332, 'ftse4good emerging index'),\n",
       " (10.114285714285714, 'tcs global news'),\n",
       " (10.0, 'overlay digital technologies'),\n",
       " (10.0, 'national stock exchange'),\n",
       " (9.8, 'https :// learning'),\n",
       " (9.75, 'experience days throughout'),\n",
       " (9.716666666666665, 'tata consultancy services'),\n",
       " (9.714285714285715, 'tcs proactive stance'),\n",
       " (9.25, 'four virtual programmes'),\n",
       " (9.0, 'widening social divide'),\n",
       " (9.0, 'strategic business unit'),\n",
       " (9.0, 'really exciting insights'),\n",
       " (9.0, 'overall business operations'),\n",
       " (9.0, 'https :// membersarea'),\n",
       " (9.0, 'high quality interactions'),\n",
       " (9.0, 'building successful partnerships'),\n",
       " (8.666666666666666, 'use business model'),\n",
       " (8.625, 'young people interested'),\n",
       " (8.625, 'keep young people'),\n",
       " (8.625, 'encourages young people'),\n",
       " (8.625, 'disadvantaged young people'),\n",
       " (8.625, 'benefit young people'),\n",
       " (8.6, 'impact across hard'),\n",
       " (8.5, 'technical skills trainings'),\n",
       " (8.5, 'industrial cadets'),\n",
       " (8.25, 'business solutions organization'),\n",
       " (8.25, 'business solutions organisation'),\n",
       " (8.25, 'ages providing 40'),\n",
       " (8.225, 'young people across'),\n",
       " (8.0, 'tcs ion'),\n",
       " (8.0, 'make informed decisions'),\n",
       " (8.0, 'engineering development trust'),\n",
       " (8.0, 'best practices gained'),\n",
       " (7.875, 'inspire young minds'),\n",
       " (7.85, 'providing industry informed'),\n",
       " (7.714285714285714, 'mapping stem activities'),\n",
       " (7.666666666666666, '20 uk universities'),\n",
       " (7.6, 'multiple industry sectors'),\n",
       " (7.6, 'education institutions across'),\n",
       " (7.5, '300 corporate partners'),\n",
       " (7.476190476190476, 'help students interested'),\n",
       " (7.476190476190476, 'careers among students'),\n",
       " (7.333333333333334, 'help us broaden'),\n",
       " (7.0476190476190474, 'tcs ),'),\n",
       " (7.0, 'new way'),\n",
       " (6.75, 'tata group'),\n",
       " (6.75, 'experience days'),\n",
       " (6.5, 'enabling participants'),\n",
       " (6.4, 'leading global'),\n",
       " (6.25, 'virtual programmes'),\n",
       " (6.214285714285714, 'stem subjects'),\n",
       " (6.0, 'physical assets'),\n",
       " (6.0, 'digital era'),\n",
       " (5.75, 'new people'),\n",
       " (5.75, 'become virtual'),\n",
       " (5.714285714285714, 'tcs offers'),\n",
       " (5.666666666666666, 'service model'),\n",
       " (5.625, 'young people'),\n",
       " (5.583333333333334, 'edt ),'),\n",
       " (5.4, 'global head'),\n",
       " (5.3, 'engineering services'),\n",
       " (5.214285714285714, 'stem education'),\n",
       " (5.1, 'world ’'),\n",
       " (5.0476190476190474, 'stem careers'),\n",
       " (5.0, 'winning work'),\n",
       " (5.0, 'new ways'),\n",
       " (5.0, 'largest businesses'),\n",
       " (5.0, 'equal access'),\n",
       " (5.0, 'autumn term'),\n",
       " (4.8, '.”“ experiences'),\n",
       " (4.75, 'edt programmes'),\n",
       " (4.6, 'industry mentors'),\n",
       " (4.6, 'educators across'),\n",
       " (4.6, 'communities across'),\n",
       " (4.5, 'various programmes'),\n",
       " (4.5, 'software development'),\n",
       " (4.5, 'invaluable skills'),\n",
       " (4.5, 'enabling institutions'),\n",
       " (4.5, 'corporate partners'),\n",
       " (4.466666666666667, '000 experiences'),\n",
       " (4.392857142857142, 'providing students'),\n",
       " (4.333333333333334, 'pursue careers'),\n",
       " (4.25, 'hosted solutions'),\n",
       " (4.142857142857142, 'reaching students'),\n",
       " (4.142857142857142, 'college students'),\n",
       " (4.0, 'visit us'),\n",
       " (4.0, 'ultimately making'),\n",
       " (4.0, 'transformation journeys'),\n",
       " (4.0, 'trained consultants'),\n",
       " (4.0, 'tech leaders'),\n",
       " (4.0, 'summer programmes'),\n",
       " (4.0, 'serving clients'),\n",
       " (4.0, 'royal highness'),\n",
       " (4.0, 'provides easy'),\n",
       " (4.0, 'promote achievement'),\n",
       " (4.0, 'next generation'),\n",
       " (4.0, 'long'),\n",
       " (4.0, 'learner pathway'),\n",
       " (4.0, 'july 27'),\n",
       " (4.0, 'inspire interest'),\n",
       " (4.0, 'government departments'),\n",
       " (4.0, 'explorers'),\n",
       " (4.0, 'encourage attainment'),\n",
       " (4.0, 'enables corporates'),\n",
       " (4.0, 'digital'),\n",
       " (4.0, 'current challenges'),\n",
       " (4.0, 'creating pathways'),\n",
       " (4.0, 'competency framework'),\n",
       " (4.0, 'cognitive powered'),\n",
       " (4.0, 'climate change'),\n",
       " (4.0, 'become inaccessible'),\n",
       " (4.0, 'also transition'),\n",
       " (4.0, 'also extending'),\n",
       " (4.0, 'allowing us'),\n",
       " (4.0, 'admissions process'),\n",
       " (4.0, '50 years'),\n",
       " (4.0, '46 countries'),\n",
       " (4.0, '22 billion'),\n",
       " (4.0, '19 restrictions'),\n",
       " (3.8, 'learning'),\n",
       " (3.7142857142857144, 'tcs'),\n",
       " (3.666666666666667, 'future holds'),\n",
       " (3.666666666666667, 'future .”'),\n",
       " (3.666666666666667, '000 registrations'),\n",
       " (3.642857142857143, 'many students'),\n",
       " (3.6, '’'),\n",
       " (3.5, 'upon completion'),\n",
       " (3.5, 'unlock potential'),\n",
       " (3.5, 'unique'),\n",
       " (3.5, 'reach areas'),\n",
       " (3.5, 'provide opportunities'),\n",
       " (3.5, 'integrated portfolio'),\n",
       " (3.0, 'year'),\n",
       " (3.0, 'work'),\n",
       " (3.0, 'business'),\n",
       " (2.8, 'services'),\n",
       " (2.8, 'experiences'),\n",
       " (2.7142857142857144, 'stem'),\n",
       " (2.6666666666666665, 'uk'),\n",
       " (2.6, 'industry'),\n",
       " (2.5, 'technology'),\n",
       " (2.5, 'skills'),\n",
       " (2.5, 'programmes'),\n",
       " (2.5, 'platforms'),\n",
       " (2.5, 'leveraging'),\n",
       " (2.5, 'launch'),\n",
       " (2.5, 'education'),\n",
       " (2.5, 'benchmark'),\n",
       " (2.5, 'accreditation'),\n",
       " (2.3333333333333335, 'help'),\n",
       " (2.25, 'solutions'),\n",
       " (2.25, 'providing'),\n",
       " (2.25, 'edt'),\n",
       " (2.142857142857143, 'students'),\n",
       " (2.0, 'use'),\n",
       " (2.0, 'us'),\n",
       " (2.0, 'universities'),\n",
       " (2.0, 'partners'),\n",
       " (2.0, 'multiple'),\n",
       " (2.0, 'make'),\n",
       " (2.0, 'inspire'),\n",
       " (2.0, 'best'),\n",
       " (2.0, 'activities'),\n",
       " (1.6666666666666667, 'future'),\n",
       " (1.6666666666666667, '000'),\n",
       " (1.5, 'world'),\n",
       " (1.5, 'summer'),\n",
       " (1.5, 'reach'),\n",
       " (1.5, 'potential'),\n",
       " (1.5, 'opportunities'),\n",
       " (1.5, 'many'),\n",
       " (1.5, 'integrated'),\n",
       " (1.5, 'completion'),\n",
       " (1.5, 'businesses'),\n",
       " (1.0, '“'),\n",
       " (1.0, 'www'),\n",
       " (1.0, 'working'),\n",
       " (1.0, 'worked'),\n",
       " (1.0, 'wales'),\n",
       " (1.0, 'vision'),\n",
       " (1.0, 'used'),\n",
       " (1.0, 'teaching'),\n",
       " (1.0, 'teach'),\n",
       " (1.0, 'tcsionhub'),\n",
       " (1.0, 'tcs_news'),\n",
       " (1.0, 'supported'),\n",
       " (1.0, 'support'),\n",
       " (1.0, 'study'),\n",
       " (1.0, 'ste'),\n",
       " (1.0, 'stay'),\n",
       " (1.0, 'society'),\n",
       " (1.0, 'skilling'),\n",
       " (1.0, 'see'),\n",
       " (1.0, 'secured'),\n",
       " (1.0, 'scotland'),\n",
       " (1.0, 'school'),\n",
       " (1.0, 'register'),\n",
       " (1.0, 'recruitment'),\n",
       " (1.0, 'recognized'),\n",
       " (1.0, 'receive'),\n",
       " (1.0, 'projects'),\n",
       " (1.0, 'prince'),\n",
       " (1.0, 'possible'),\n",
       " (1.0, 'placements'),\n",
       " (1.0, 'place'),\n",
       " (1.0, 'pay'),\n",
       " (1.0, 'patron'),\n",
       " (1.0, 'partnership'),\n",
       " (1.0, 'partnering'),\n",
       " (1.0, 'part'),\n",
       " (1.0, 'pace'),\n",
       " (1.0, 'organizations'),\n",
       " (1.0, 'org'),\n",
       " (1.0, 'open'),\n",
       " (1.0, 'offering'),\n",
       " (1.0, 'offer'),\n",
       " (1.0, 'nse'),\n",
       " (1.0, 'navigate'),\n",
       " (1.0, 'mumbai'),\n",
       " (1.0, 'london'),\n",
       " (1.0, 'listed'),\n",
       " (1.0, 'led'),\n",
       " (1.0, 'june'),\n",
       " (1.0, 'issues'),\n",
       " (1.0, 'introducing'),\n",
       " (1.0, 'institutes'),\n",
       " (1.0, 'information'),\n",
       " (1.0, 'india'),\n",
       " (1.0, 'idh'),\n",
       " (1.0, 'hope'),\n",
       " (1.0, 'home'),\n",
       " (1.0, 'heart'),\n",
       " (1.0, 'grow'),\n",
       " (1.0, 'gap'),\n",
       " (1.0, 'fulfil'),\n",
       " (1.0, 'follow'),\n",
       " (1.0, 'focus'),\n",
       " (1.0, 'find'),\n",
       " (1.0, 'far'),\n",
       " (1.0, 'eyes'),\n",
       " (1.0, 'excited'),\n",
       " (1.0, 'excellence'),\n",
       " (1.0, 'ever'),\n",
       " (1.0, 'etrust'),\n",
       " (1.0, 'equipping'),\n",
       " (1.0, 'england'),\n",
       " (1.0, 'engage'),\n",
       " (1.0, 'employment'),\n",
       " (1.0, 'employers'),\n",
       " (1.0, 'employable'),\n",
       " (1.0, 'efficient'),\n",
       " (1.0, 'earned'),\n",
       " (1.0, 'due'),\n",
       " (1.0, 'delivered'),\n",
       " (1.0, 'deliver'),\n",
       " (1.0, 'delighted'),\n",
       " (1.0, 'date'),\n",
       " (1.0, 'critical'),\n",
       " (1.0, 'covid'),\n",
       " (1.0, 'could'),\n",
       " (1.0, 'content'),\n",
       " (1.0, 'consulting'),\n",
       " (1.0, 'connections'),\n",
       " (1.0, 'conducted'),\n",
       " (1.0, 'complete'),\n",
       " (1.0, 'committed'),\n",
       " (1.0, 'com'),\n",
       " (1.0, 'collaboration'),\n",
       " (1.0, 'collaborate'),\n",
       " (1.0, 'choices'),\n",
       " (1.0, 'chance'),\n",
       " (1.0, 'ceo'),\n",
       " (1.0, 'build'),\n",
       " (1.0, 'bse'),\n",
       " (1.0, 'bridge'),\n",
       " (1.0, 'awarded'),\n",
       " (1.0, 'award'),\n",
       " (1.0, 'answer'),\n",
       " (1.0, 'aims'),\n",
       " (1.0, 'address'),\n",
       " (1.0, 'adapted'),\n",
       " (1.0, 'achieve'),\n",
       " (1.0, 'able'),\n",
       " (1.0, '9'),\n",
       " (1.0, '532540'),\n",
       " (1.0, '443'),\n",
       " (1.0, '2020')]"
      ]
     },
     "execution_count": 21,
     "metadata": {},
     "output_type": "execute_result"
    }
   ],
   "source": [
    "c"
   ]
  },
  {
   "cell_type": "markdown",
   "metadata": {},
   "source": [
    "# we can put a cut off for the rank and select the sentences with their ranks in that range and concat them to form a sentence(However it may not be gramtically correct)"
   ]
  },
  {
   "cell_type": "code",
   "execution_count": 23,
   "metadata": {},
   "outputs": [],
   "source": [
    "# Here i am taking the score from 15 to highest for example"
   ]
  },
  {
   "cell_type": "code",
   "execution_count": 30,
   "metadata": {},
   "outputs": [],
   "source": [
    "# scores\n",
    "scores=[]\n",
    "for i in range(0,len(c)):\n",
    "    scores.append(c[i][0])"
   ]
  },
  {
   "cell_type": "code",
   "execution_count": 32,
   "metadata": {},
   "outputs": [],
   "source": [
    "filt=[]\n",
    "for i,j in zip(scores,b):\n",
    "    if(i>15):\n",
    "        filt.append(j)"
   ]
  },
  {
   "cell_type": "code",
   "execution_count": 33,
   "metadata": {},
   "outputs": [
    {
     "data": {
      "text/plain": [
       "['person programme typically saw around 700 participants',\n",
       " 'challenger industrial cadet certification .“ tcs ion',\n",
       " 'physical boundaries ,” said venguswamy ramaswamy',\n",
       " 'tcs ’ long established digital explorers programme',\n",
       " 'new way ,” said julie feest',\n",
       " 'unique location independent agiletm delivery model',\n",
       " 'djsi ), msci global sustainability index',\n",
       " 'tcs ion ™ digital learning platform',\n",
       " 'include industrial cadets virtual work experience',\n",
       " 'deep domestic market exposure along',\n",
       " 'fiscal year ended march 31',\n",
       " 'create virtual university taster courses',\n",
       " 'tcs ion digital learning platform',\n",
       " 'indias largest multinational business group',\n",
       " 'silver industrial cadet certification',\n",
       " 'stem subjects gain meaningful experiences',\n",
       " 'dow jones sustainability index',\n",
       " 'including university taster days',\n",
       " 'company generated consolidated revenues',\n",
       " '5 million learners worldwide',\n",
       " 'virtual delivery democratises access',\n",
       " 'first virtual event already']"
      ]
     },
     "execution_count": 33,
     "metadata": {},
     "output_type": "execute_result"
    }
   ],
   "source": [
    "filt"
   ]
  },
  {
   "cell_type": "code",
   "execution_count": 38,
   "metadata": {},
   "outputs": [
    {
     "data": {
      "text/plain": [
       "\"['person programme typically saw around 700 participants', 'challenger industrial cadet certification .“ tcs ion', 'physical boundaries ,” said venguswamy ramaswamy', 'tcs ’ long established digital explorers programme', 'new way ,” said julie feest', 'unique location independent agiletm delivery model', 'djsi ), msci global sustainability index', 'tcs ion ™ digital learning platform', 'include industrial cadets virtual work experience', 'deep domestic market exposure along', 'fiscal year ended march 31', 'create virtual university taster courses', 'tcs ion digital learning platform', 'indias largest multinational business group', 'silver industrial cadet certification', 'stem subjects gain meaningful experiences', 'dow jones sustainability index', 'including university taster days', 'company generated consolidated revenues', '5 million learners worldwide', 'virtual delivery democratises access', 'first virtual event already']\""
      ]
     },
     "execution_count": 38,
     "metadata": {},
     "output_type": "execute_result"
    }
   ],
   "source": [
    "str(filt)"
   ]
  },
  {
   "cell_type": "code",
   "execution_count": 39,
   "metadata": {},
   "outputs": [
    {
     "name": "stdout",
     "output_type": "stream",
     "text": [
      "<wordcloud.wordcloud.WordCloud object at 0x7ff9904994e0>\n"
     ]
    },
    {
     "data": {
      "image/png": "[encoded data removed]",
      "text/plain": [
       "<Figure size 432x288 with 1 Axes>"
      ]
     },
     "metadata": {
      "needs_background": "light"
     },
     "output_type": "display_data"
    }
   ],
   "source": [
    "# WOrd cloud\n",
    "from os import path\n",
    "from PIL import Image\n",
    "from wordcloud import WordCloud, STOPWORDS, ImageColorGenerator\n",
    "import matplotlib.pyplot as plt\n",
    "\n",
    "wordcloud = WordCloud(\n",
    "                          background_color='white',\n",
    "                          stopwords=stop_words,\n",
    "                          max_words=100,\n",
    "                          max_font_size=50, \n",
    "                          random_state=42\n",
    "                         ).generate(stri)\n",
    "print(wordcloud)\n",
    "fig = plt.figure(1)\n",
    "plt.imshow(wordcloud)\n",
    "plt.axis('off')\n",
    "plt.show()\n",
    "fig.savefig(\"word1.png\", dpi=900)"
   ]
  },
  {
   "cell_type": "code",
   "execution_count": null,
   "metadata": {},
   "outputs": [],
   "source": [
    "London | Mumbai, July 27, 2020: Tata Consultancy Services (TCS), (BSE: 532540, NSE: TCS) a leading global IT services, consulting and business solutions organisation, has supported the Engineering Development Trust (EDT), its long-term STEM skills partner, launch virtual educational programmes for school and college students, through its TCS iON™ Digital Learning Platform.Due to COVID-19 restrictions, experiences of work, technical skills trainings, and EDT programmes have become inaccessible for many students. To address this gap, EDT has adapted its summer programmes to become virtual by leveraging the TCS iON platform.EDT is working with 20 UK universities and 300 corporate partners to deliver the programmes. This summer will see the launch of four virtual programmes, including university taster days, experiences of work and activities, to help students interested in STEM subjects gain meaningful experiences and accreditation through Industrial Cadets. EDT and TCS have worked with universities and corporate partners to create virtual university taster courses on the TCS iON Digital Learning Platform, enabling participants to complete them at their own pace. On completion, students are awarded a Silver Industrial Cadet certification.The TCS iON platform is also extending the reach of TCS’ long established Digital Explorers programme, conducted in partnership with EDT, that aims to inspire the next generation to pursue careers in STEM. While the in-person programme typically saw around 700 participants, the first virtual event already has 9,000 registrations so far. It will include Industrial Cadets virtual work experience and experience days throughout the summer in England and into the autumn term in Scotland. Upon completion, students will receive a Challenger Industrial Cadet certification.“TCS iON is partnering with education institutions across the world to help them navigate the current challenges, and also transition into a digital era where teaching and learning do not have physical boundaries,” said Venguswamy Ramaswamy, Global Head, TCS iON. “We are delighted to once again work with EDT on programmes that inspire interest in STEM education and careers among students in UK. Virtual delivery democratises access, allowing us to reach more students than ever before.”“Experiences of work and connections with industry are critical in providing students the chance to make their own choices for their future and we are delighted to be able to offer these opportunities to young people interested in STEM subjects in a new way,” said Julie Feest, CEO, EDT. “By leveraging TCS iON platform, we are reaching students in new ways and offering them really exciting insights into the world of work. We hope that our virtual programmes will help us broaden our impact across hard to reach areas and focus on disadvantaged young people to answer the issues of widening social divide, equipping them with invaluable skills, introducing them to new people and ultimately making them more employable. I’m excited to see what the future holds for this new way of providing our programmes, and how it can benefit young people to open their eyes to what could be possible for them and their future.”The TCS iON Digital Learning Platform is used by more than 5 million learners worldwide. It enables corporates, institutes and industry mentors to collaborate on various programmes to teach and inspire the tech leaders of the future.Find out more about TCS iON: https://learning.tcsionhub.uk/iDH/uk/home.Find out more about the virtual programmes and register: https://membersarea.etrust.org.uk/content/digital-explorers-june-2020.About TCS iON.TCS iON is a strategic business unit of Tata Consultancy Services focused on enabling institutions, government departments and organizations from multiple industry sectors to be efficient in their recruitment/admissions process, learning and skilling and overall business operations with the use of ‘Phygital’ platforms. These are platforms that overlay digital technologies over physical assets. TCS iON delivers this with a unique IT-as-a-Service model that provides easy-to-use, secured, integrated, and hosted solutions in a build-as-you-grow and pay-as-you-use business model. Serving clients with the help of best practices gained through TCS’ global experience, deep domestic market exposure along with industry leading technology expertise.About Tata Consultancy Services Ltd. (TCS)Tata Consultancy Services is an IT services, consulting and business solutions organization that has been partnering with many of the world’s largest businesses in their transformation journeys for over 50 years. TCS offers a consulting-led, cognitive powered, integrated portfolio of business, technology and engineering services and solutions. This is delivered through its unique Location Independent AgileTM delivery model, recognized as a benchmark of excellence in software development.A part of the Tata group,Indias largest multinational business group, TCS has over 443,000 of the world’s best-trained consultants in 46 countries. The company generated consolidated revenues of US $22 billion in the fiscal year ended March 31, 2020, and is listed on the BSE (formerly Bombay Stock Exchange) and the NSE (National Stock Exchange) in India.TCS proactive stance on climate change and award-winning work with communities across the world have earned it a place in leading sustainability indices such as the Dow Jones Sustainability Index (DJSI), MSCI Global Sustainability Index and the FTSE4Good Emerging Index. For more information, visit us at www.tcs.com.www.tcs.com.To stay up-to-date on TCS global news, follow @TCS_News. About EDT.EDT is a UK wide education charity, creating pathways through education to employment, working in collaboration with industry, education and partners to provide opportunities for young people of all ages providing 40,000 experiences each year.We are working to our vision of a society where young people across the UK have equal access to engage with STE(A)M* activities and achieve their potential in STEM careers and opportunities for further study.Through experience days, projects, placements and Industrial Cadets accredited programmes, we Inspire young minds ,Unlock potential,Promote achievement,Encourage attainment.Bridge the gap between industry and education.We keep young people at the heart of what we do, providing industry informed, curriculum enhancing learning experiences to help them fulfil their potential and make informed decisions about their future.About Industrial Cadets.Industrial Cadets is a nationally recognised benchmark accreditation. EDT developed Industrial Cadets with support from industry by mapping STEM activities against a skills and competency framework. We are committed to offering a learner pathway that encourages young people to have multiple, high quality interactions with businesses, through building successful partnerships with employers and educators across the UK. His Royal Highness The Prince of Wales is Patron of Industrial Cadets"
   ]
  }
 ],
 "metadata": {
  "kernelspec": {
   "display_name": "Python 3",
   "language": "python",
   "name": "python3"
  },
  "language_info": {
   "codemirror_mode": {
    "name": "ipython",
    "version": 3
   },
   "file_extension": ".py",
   "mimetype": "text/x-python",
   "name": "python",
   "nbconvert_exporter": "python",
   "pygments_lexer": "ipython3",
   "version": "3.7.3"
  }
 },
 "nbformat": 4,
 "nbformat_minor": 2
}
