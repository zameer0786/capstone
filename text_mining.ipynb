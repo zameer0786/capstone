{
 "cells": [
  {
   "cell_type": "code",
   "execution_count": 1,
   "metadata": {},
   "outputs": [
    {
     "name": "stdout",
     "output_type": "stream",
     "text": [
      "Collecting topia.termextract\n",
      "\u001b[?25l  Downloading https://files.pythonhosted.org/packages/d1/b9/452257976ebee91d07c74bc4b34cfce416f45b94af1d62902ae39bf902cf/topia.termextract-1.1.0.tar.gz (571kB)\n",
      "\u001b[K     |████████████████████████████████| 573kB 759kB/s eta 0:00:01\n",
      "\u001b[?25hRequirement already satisfied: setuptools in /Users/zameershaik/Applications/anaconda3/lib/python3.7/site-packages (from topia.termextract) (41.0.1)\n",
      "Collecting zope.interface (from topia.termextract)\n",
      "\u001b[?25l  Downloading https://files.pythonhosted.org/packages/12/a3/80438e695d45017ced5defd8cd02a3b53430d555a4a17afd3c9dbf106bc4/zope.interface-5.1.0-cp37-cp37m-macosx_10_9_x86_64.whl (192kB)\n",
      "\u001b[K     |████████████████████████████████| 194kB 1.8MB/s eta 0:00:01\n",
      "\u001b[?25hBuilding wheels for collected packages: topia.termextract\n",
      "  Building wheel for topia.termextract (setup.py) ... \u001b[?25ldone\n",
      "\u001b[?25h  Stored in directory: /Users/zameershaik/Library/Caches/pip/wheels/2f/ec/89/a12badc5b41e41b4a6a3c4c1cb4d66b1c1281f3b43a21da441\n",
      "Successfully built topia.termextract\n",
      "Installing collected packages: zope.interface, topia.termextract\n",
      "Successfully installed topia.termextract-1.1.0 zope.interface-5.1.0\n"
     ]
    }
   ],
   "source": [
    "!pip install topia.termextract"
   ]
  },
  {
   "cell_type": "code",
   "execution_count": null,
   "metadata": {},
   "outputs": [],
   "source": []
  }
 ],
 "metadata": {
  "kernelspec": {
   "display_name": "Python 3",
   "language": "python",
   "name": "python3"
  },
  "language_info": {
   "codemirror_mode": {
    "name": "ipython",
    "version": 3
   },
   "file_extension": ".py",
   "mimetype": "text/x-python",
   "name": "python",
   "nbconvert_exporter": "python",
   "pygments_lexer": "ipython3",
   "version": "3.7.3"
  }
 },
 "nbformat": 4,
 "nbformat_minor": 2
}
