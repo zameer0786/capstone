{
 "cells": [
  {
   "cell_type": "code",
   "execution_count": 7,
   "metadata": {},
   "outputs": [
    {
     "name": "stdout",
     "output_type": "stream",
     "text": [
      "Requirement already satisfied: beautifulsoup4 in /Users/zameershaik/Applications/anaconda3/lib/python3.7/site-packages (4.7.1)\n",
      "Requirement already satisfied: soupsieve>=1.2 in /Users/zameershaik/Applications/anaconda3/lib/python3.7/site-packages (from beautifulsoup4) (1.8)\n",
      "Note: you may need to restart the kernel to use updated packages.\n"
     ]
    }
   ],
   "source": [
    "pip install beautifulsoup4\n"
   ]
  },
  {
   "cell_type": "code",
   "execution_count": 9,
   "metadata": {},
   "outputs": [
    {
     "name": "stdout",
     "output_type": "stream",
     "text": [
      "Collecting youtube-dl\n",
      "\u001b[?25l  Downloading https://files.pythonhosted.org/packages/61/1c/a86837929eff24827b117d577584cc1a2a85dfdb5a91465d17c8b298f0d0/youtube_dl-2020.7.28-py2.py3-none-any.whl (1.8MB)\n",
      "\u001b[K     |████████████████████████████████| 1.8MB 1.2MB/s eta 0:00:01\n",
      "\u001b[?25hInstalling collected packages: youtube-dl\n",
      "Successfully installed youtube-dl-2020.7.28\n",
      "Note: you may need to restart the kernel to use updated packages.\n"
     ]
    }
   ],
   "source": [
    "pip install youtube-dl"
   ]
  },
  {
   "cell_type": "code",
   "execution_count": 10,
   "metadata": {},
   "outputs": [
    {
     "name": "stdout",
     "output_type": "stream",
     "text": [
      "Collecting pyowm\n",
      "\u001b[?25l  Downloading https://files.pythonhosted.org/packages/2b/fa/5869d2a6574279dcf8e184bbc9cc2ea9712299a63275a833469c057aba8d/pyowm-3.0.0-py3-none-any.whl (3.3MB)\n",
      "\u001b[K     |████████████████████████████████| 3.3MB 1.1MB/s eta 0:00:01\n",
      "\u001b[?25hCollecting PySocks<2,==1.7.1 (from pyowm)\n",
      "  Downloading https://files.pythonhosted.org/packages/8d/59/b4572118e098ac8e46e399a1dd0f2d85403ce8bbaad9ec79373ed6badaf9/PySocks-1.7.1-py3-none-any.whl\n",
      "Requirement already satisfied: requests[socks] in /Users/zameershaik/Applications/anaconda3/lib/python3.7/site-packages (from pyowm) (2.22.0)\n",
      "Collecting geojson<3,>=2.3.0 (from pyowm)\n",
      "  Downloading https://files.pythonhosted.org/packages/e4/8d/9e28e9af95739e6d2d2f8d4bef0b3432da40b7c3588fbad4298c1be09e48/geojson-2.5.0-py2.py3-none-any.whl\n",
      "Requirement already satisfied: chardet<3.1.0,>=3.0.2 in /Users/zameershaik/Applications/anaconda3/lib/python3.7/site-packages (from requests[socks]->pyowm) (3.0.4)\n",
      "Requirement already satisfied: idna<2.9,>=2.5 in /Users/zameershaik/Applications/anaconda3/lib/python3.7/site-packages (from requests[socks]->pyowm) (2.8)\n",
      "Requirement already satisfied: urllib3!=1.25.0,!=1.25.1,<1.26,>=1.21.1 in /Users/zameershaik/Applications/anaconda3/lib/python3.7/site-packages (from requests[socks]->pyowm) (1.24.2)\n",
      "Requirement already satisfied: certifi>=2017.4.17 in /Users/zameershaik/Applications/anaconda3/lib/python3.7/site-packages (from requests[socks]->pyowm) (2020.6.20)\n",
      "Installing collected packages: PySocks, geojson, pyowm\n",
      "  Found existing installation: PySocks 1.7.0\n",
      "    Uninstalling PySocks-1.7.0:\n",
      "      Successfully uninstalled PySocks-1.7.0\n",
      "Successfully installed PySocks-1.7.1 geojson-2.5.0 pyowm-3.0.0\n",
      "Note: you may need to restart the kernel to use updated packages.\n"
     ]
    }
   ],
   "source": [
    "pip install pyowm"
   ]
  },
  {
   "cell_type": "code",
   "execution_count": 14,
   "metadata": {},
   "outputs": [
    {
     "name": "stdout",
     "output_type": "stream",
     "text": [
      "Collecting vic\n",
      "  Downloading https://files.pythonhosted.org/packages/22/82/0b5af225b8caaa46ffef8a2b3beecd5cf1b7044decc3ca49d3075b6576de/vic-0.0.1-py3-none-any.whl\n",
      "Installing collected packages: vic\n",
      "Successfully installed vic-0.0.1\n",
      "Note: you may need to restart the kernel to use updated packages.\n"
     ]
    }
   ],
   "source": [
    "pip install vic"
   ]
  },
  {
   "cell_type": "code",
   "execution_count": 11,
   "metadata": {},
   "outputs": [
    {
     "name": "stdout",
     "output_type": "stream",
     "text": [
      "Collecting wikipedia\n",
      "  Downloading https://files.pythonhosted.org/packages/67/35/25e68fbc99e672127cc6fbb14b8ec1ba3dfef035bf1e4c90f78f24a80b7d/wikipedia-1.4.0.tar.gz\n",
      "Requirement already satisfied: beautifulsoup4 in /Users/zameershaik/Applications/anaconda3/lib/python3.7/site-packages (from wikipedia) (4.7.1)\n",
      "Requirement already satisfied: requests<3.0.0,>=2.0.0 in /Users/zameershaik/Applications/anaconda3/lib/python3.7/site-packages (from wikipedia) (2.22.0)\n",
      "Requirement already satisfied: soupsieve>=1.2 in /Users/zameershaik/Applications/anaconda3/lib/python3.7/site-packages (from beautifulsoup4->wikipedia) (1.8)\n",
      "Requirement already satisfied: certifi>=2017.4.17 in /Users/zameershaik/Applications/anaconda3/lib/python3.7/site-packages (from requests<3.0.0,>=2.0.0->wikipedia) (2020.6.20)\n",
      "Requirement already satisfied: idna<2.9,>=2.5 in /Users/zameershaik/Applications/anaconda3/lib/python3.7/site-packages (from requests<3.0.0,>=2.0.0->wikipedia) (2.8)\n",
      "Requirement already satisfied: urllib3!=1.25.0,!=1.25.1,<1.26,>=1.21.1 in /Users/zameershaik/Applications/anaconda3/lib/python3.7/site-packages (from requests<3.0.0,>=2.0.0->wikipedia) (1.24.2)\n",
      "Requirement already satisfied: chardet<3.1.0,>=3.0.2 in /Users/zameershaik/Applications/anaconda3/lib/python3.7/site-packages (from requests<3.0.0,>=2.0.0->wikipedia) (3.0.4)\n",
      "Building wheels for collected packages: wikipedia\n",
      "  Building wheel for wikipedia (setup.py) ... \u001b[?25ldone\n",
      "\u001b[?25h  Stored in directory: /Users/zameershaik/Library/Caches/pip/wheels/87/2a/18/4e471fd96d12114d16fe4a446d00c3b38fb9efcb744bd31f4a\n",
      "Successfully built wikipedia\n",
      "Installing collected packages: wikipedia\n",
      "Successfully installed wikipedia-1.4.0\n",
      "Note: you may need to restart the kernel to use updated packages.\n"
     ]
    }
   ],
   "source": [
    "pip install wikipedia"
   ]
  },
  {
   "cell_type": "code",
   "execution_count": 18,
   "metadata": {},
   "outputs": [
    {
     "name": "stdout",
     "output_type": "stream",
     "text": [
      "Collecting urllib2\n",
      "\u001b[31m  ERROR: Could not find a version that satisfies the requirement urllib2 (from versions: none)\u001b[0m\n",
      "\u001b[31mERROR: No matching distribution found for urllib2\u001b[0m\n",
      "Note: you may need to restart the kernel to use updated packages.\n"
     ]
    }
   ],
   "source": [
    "pip install urllib2"
   ]
  },
  {
   "cell_type": "code",
   "execution_count": 20,
   "metadata": {},
   "outputs": [],
   "source": [
    "import speech_recognition as sr\n",
    "import os\n",
    "import sys\n",
    "import re\n",
    "import webbrowser\n",
    "import smtplib\n",
    "import requests\n",
    "import subprocess\n",
    "from pyowm import OWM\n",
    "import youtube_dl\n",
    "import vic\n",
    "import urllib\n",
    "#import urllib2\n",
    "import json\n",
    "from bs4 import BeautifulSoup as soup\n",
    "from urllib.request import urlopen \n",
    "#content = urlopen(\"https://www.quora.com/\")\n",
    "import wikipedia\n",
    "import random\n",
    "from time import strftime"
   ]
  },
  {
   "cell_type": "code",
   "execution_count": null,
   "metadata": {},
   "outputs": [],
   "source": [
    "\n",
    "def myCommand():\n",
    "    r = sr.Recognizer()\n",
    "    with sr.Microphone() as source:\n",
    "        print('Say something...')\n",
    "        r.pause_threshold = 1\n",
    "        r.adjust_for_ambient_noise(source, duration=1)\n",
    "        audio = r.listen(source)\n",
    "    try:\n",
    "        command = r.recognize_google(audio).lower()\n",
    "        print('You said: ' + command + '\\n')\n",
    "    #loop back to continue to listen for commands if unrecognizable speech is received\n",
    "    except sr.UnknownValueError:\n",
    "        print('....')\n",
    "        command = myCommand();\n",
    "    return command\n",
    "def sofiaResponse(audio):\n",
    "    print(audio)\n",
    "    for line in audio.splitlines():\n",
    "        os.system(\"say \" + audio)"
   ]
  }
 ],
 "metadata": {
  "kernelspec": {
   "display_name": "Python 3",
   "language": "python",
   "name": "python3"
  },
  "language_info": {
   "codemirror_mode": {
    "name": "ipython",
    "version": 3
   },
   "file_extension": ".py",
   "mimetype": "text/x-python",
   "name": "python",
   "nbconvert_exporter": "python",
   "pygments_lexer": "ipython3",
   "version": "3.7.3"
  }
 },
 "nbformat": 4,
 "nbformat_minor": 2
}
