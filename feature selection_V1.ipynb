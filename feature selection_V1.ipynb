{
 "cells": [
  {
   "cell_type": "code",
   "execution_count": 1,
   "metadata": {},
   "outputs": [],
   "source": [
    "import pandas as pd\n",
    "import numpy as np\n",
    "import matplotlib.pyplot as plt\n",
    "import seaborn as sns"
   ]
  },
  {
   "cell_type": "code",
   "execution_count": 2,
   "metadata": {},
   "outputs": [],
   "source": [
    "df = pd.read_csv('modeldata.csv')"
   ]
  },
  {
   "cell_type": "code",
   "execution_count": 3,
   "metadata": {},
   "outputs": [],
   "source": [
    "pd.set_option('display.max_columns',None)"
   ]
  },
  {
   "cell_type": "code",
   "execution_count": 4,
   "metadata": {},
   "outputs": [],
   "source": [
    "df.drop(columns='Unnamed: 0',inplace=True)"
   ]
  },
  {
   "cell_type": "code",
   "execution_count": 10,
   "metadata": {},
   "outputs": [
    {
     "data": {
      "text/plain": [
       "0    0.759027\n",
       "1    0.236769\n",
       "Name: loan_status, dtype: float64"
      ]
     },
     "execution_count": 10,
     "metadata": {},
     "output_type": "execute_result"
    }
   ],
   "source": [
    "df['loan_status'].value_counts()/63999"
   ]
  },
  {
   "cell_type": "code",
   "execution_count": null,
   "metadata": {},
   "outputs": [],
   "source": [
    "# rfe for random forest"
   ]
  },
  {
   "cell_type": "code",
   "execution_count": 15,
   "metadata": {},
   "outputs": [],
   "source": [
    "from scipy.stats import randint as randint\n",
    "params2={\n",
    "'n_estimators': randint(1,300),\n",
    "'criterion':['gini','entropy'],\n",
    "    \n",
    "    'max_depth':randint(1,200),\n",
    "    'min_samples_split':randint(1,150),\n",
    "    'min_samples_leaf':randint(1,200)}"
   ]
  },
  {
   "cell_type": "code",
   "execution_count": 6,
   "metadata": {},
   "outputs": [],
   "source": [
    "from sklearn.model_selection import train_test_split"
   ]
  },
  {
   "cell_type": "code",
   "execution_count": 7,
   "metadata": {},
   "outputs": [],
   "source": [
    "x = df.drop(columns=['loan_status'])\n",
    "y = df['loan_status']"
   ]
  },
  {
   "cell_type": "code",
   "execution_count": 8,
   "metadata": {},
   "outputs": [],
   "source": [
    "\n",
    ">>> from sklearn.model_selection import KFold"
   ]
  },
  {
   "cell_type": "code",
   "execution_count": null,
   "metadata": {},
   "outputs": [],
   "source": [
    "kf = KFold(n_splits=2)"
   ]
  },
  {
   "cell_type": "code",
   "execution_count": 8,
   "metadata": {},
   "outputs": [],
   "source": [
    "x_train,x_test,y_train,y_test = train_test_split(x,y,test_size=0.25,random_state=1)"
   ]
  },
  {
   "cell_type": "code",
   "execution_count": 9,
   "metadata": {},
   "outputs": [],
   "source": [
    "from sklearn.ensemble import RandomForestClassifier"
   ]
  },
  {
   "cell_type": "code",
   "execution_count": 12,
   "metadata": {},
   "outputs": [],
   "source": [
    "rfc = RandomForestClassifier()"
   ]
  },
  {
   "cell_type": "code",
   "execution_count": 13,
   "metadata": {},
   "outputs": [],
   "source": [
    "from sklearn.model_selection import RandomizedSearchCV"
   ]
  },
  {
   "cell_type": "code",
   "execution_count": 16,
   "metadata": {},
   "outputs": [],
   "source": [
    "rsvrf = RandomizedSearchCV(rfc,params2,n_jobs=-1,n_iter=100,cv=5).fit(x_train,y_train)"
   ]
  },
  {
   "cell_type": "code",
   "execution_count": 17,
   "metadata": {},
   "outputs": [
    {
     "data": {
      "text/plain": [
       "{'criterion': 'entropy',\n",
       " 'max_depth': 169,\n",
       " 'min_samples_leaf': 1,\n",
       " 'min_samples_split': 22,\n",
       " 'n_estimators': 221}"
      ]
     },
     "execution_count": 17,
     "metadata": {},
     "output_type": "execute_result"
    }
   ],
   "source": [
    "rsvrf.best_params_"
   ]
  },
  {
   "cell_type": "code",
   "execution_count": 19,
   "metadata": {},
   "outputs": [],
   "source": [
    "rf1 = RandomForestClassifier(**rsvrf.best_params_).fit(x_train,y_train)"
   ]
  },
  {
   "cell_type": "code",
   "execution_count": 21,
   "metadata": {},
   "outputs": [],
   "source": [
    "y_tr_pred = rf1.predict(x_train)"
   ]
  },
  {
   "cell_type": "code",
   "execution_count": 9,
   "metadata": {},
   "outputs": [],
   "source": [
    "from sklearn.metrics import accuracy_score,classification_report"
   ]
  },
  {
   "cell_type": "code",
   "execution_count": 23,
   "metadata": {},
   "outputs": [
    {
     "data": {
      "text/plain": [
       "0.9490135364144193"
      ]
     },
     "execution_count": 23,
     "metadata": {},
     "output_type": "execute_result"
    }
   ],
   "source": [
    "accuracy_score(y_train,y_tr_pred)"
   ]
  },
  {
   "cell_type": "code",
   "execution_count": 24,
   "metadata": {},
   "outputs": [
    {
     "name": "stdout",
     "output_type": "stream",
     "text": [
      "              precision    recall  f1-score   support\n",
      "\n",
      "           0       0.95      0.99      0.97     36479\n",
      "           1       0.96      0.82      0.88     11318\n",
      "\n",
      "    accuracy                           0.95     47797\n",
      "   macro avg       0.95      0.90      0.93     47797\n",
      "weighted avg       0.95      0.95      0.95     47797\n",
      "\n"
     ]
    }
   ],
   "source": [
    "print(classification_report(y_train,y_tr_pred))"
   ]
  },
  {
   "cell_type": "code",
   "execution_count": 25,
   "metadata": {},
   "outputs": [],
   "source": [
    "y_te_pred = rf1.predict(x_test)"
   ]
  },
  {
   "cell_type": "code",
   "execution_count": 26,
   "metadata": {},
   "outputs": [
    {
     "data": {
      "text/plain": [
       "0.9012113224126028"
      ]
     },
     "execution_count": 26,
     "metadata": {},
     "output_type": "execute_result"
    }
   ],
   "source": [
    "accuracy_score(y_test,y_te_pred)"
   ]
  },
  {
   "cell_type": "code",
   "execution_count": 27,
   "metadata": {},
   "outputs": [
    {
     "name": "stdout",
     "output_type": "stream",
     "text": [
      "              precision    recall  f1-score   support\n",
      "\n",
      "           0       0.90      0.98      0.94     12098\n",
      "           1       0.90      0.66      0.76      3835\n",
      "\n",
      "    accuracy                           0.90     15933\n",
      "   macro avg       0.90      0.82      0.85     15933\n",
      "weighted avg       0.90      0.90      0.90     15933\n",
      "\n"
     ]
    }
   ],
   "source": [
    "print(classification_report(y_test,y_te_pred))"
   ]
  },
  {
   "cell_type": "code",
   "execution_count": 28,
   "metadata": {},
   "outputs": [],
   "source": [
    "from sklearn.feature_selection import RFE"
   ]
  },
  {
   "cell_type": "code",
   "execution_count": 29,
   "metadata": {},
   "outputs": [],
   "source": [
    "rfe = RFE(rf1,50).fit(x_train,y_train)"
   ]
  },
  {
   "cell_type": "code",
   "execution_count": 30,
   "metadata": {},
   "outputs": [
    {
     "data": {
      "text/plain": [
       "array([1, 1, 1, 1, 1, 1, 1, 1, 1, 1, 1, 1, 1, 1, 1, 1, 1, 1, 1, 1, 1, 5,\n",
       "       1, 1, 1, 1, 1, 1, 1, 1, 4, 1, 8, 6, 1, 1, 1, 1, 1, 1, 1, 1, 7, 1,\n",
       "       1, 1, 1, 1, 9, 1, 1, 1, 1, 3, 1, 2, 1, 1])"
      ]
     },
     "execution_count": 30,
     "metadata": {},
     "output_type": "execute_result"
    }
   ],
   "source": [
    "(rfe.ranking_)"
   ]
  },
  {
   "cell_type": "code",
   "execution_count": 31,
   "metadata": {},
   "outputs": [
    {
     "data": {
      "text/html": [
       "<div>\n",
       "<style scoped>\n",
       "    .dataframe tbody tr th:only-of-type {\n",
       "        vertical-align: middle;\n",
       "    }\n",
       "\n",
       "    .dataframe tbody tr th {\n",
       "        vertical-align: top;\n",
       "    }\n",
       "\n",
       "    .dataframe thead th {\n",
       "        text-align: right;\n",
       "    }\n",
       "</style>\n",
       "<table border=\"1\" class=\"dataframe\">\n",
       "  <thead>\n",
       "    <tr style=\"text-align: right;\">\n",
       "      <th></th>\n",
       "      <th>0</th>\n",
       "      <th>1</th>\n",
       "    </tr>\n",
       "  </thead>\n",
       "  <tbody>\n",
       "    <tr>\n",
       "      <th>0</th>\n",
       "      <td>member_id</td>\n",
       "      <td>1</td>\n",
       "    </tr>\n",
       "    <tr>\n",
       "      <th>1</th>\n",
       "      <td>loan_amnt</td>\n",
       "      <td>1</td>\n",
       "    </tr>\n",
       "    <tr>\n",
       "      <th>2</th>\n",
       "      <td>funded_amnt_inv</td>\n",
       "      <td>1</td>\n",
       "    </tr>\n",
       "    <tr>\n",
       "      <th>3</th>\n",
       "      <td>term</td>\n",
       "      <td>1</td>\n",
       "    </tr>\n",
       "    <tr>\n",
       "      <th>4</th>\n",
       "      <td>int_rate</td>\n",
       "      <td>1</td>\n",
       "    </tr>\n",
       "    <tr>\n",
       "      <th>5</th>\n",
       "      <td>emp_length</td>\n",
       "      <td>1</td>\n",
       "    </tr>\n",
       "    <tr>\n",
       "      <th>6</th>\n",
       "      <td>annual_inc</td>\n",
       "      <td>1</td>\n",
       "    </tr>\n",
       "    <tr>\n",
       "      <th>7</th>\n",
       "      <td>dti</td>\n",
       "      <td>1</td>\n",
       "    </tr>\n",
       "    <tr>\n",
       "      <th>8</th>\n",
       "      <td>delinq_2yrs</td>\n",
       "      <td>1</td>\n",
       "    </tr>\n",
       "    <tr>\n",
       "      <th>9</th>\n",
       "      <td>inq_last_6mths</td>\n",
       "      <td>1</td>\n",
       "    </tr>\n",
       "    <tr>\n",
       "      <th>10</th>\n",
       "      <td>mths_since_last_delinq</td>\n",
       "      <td>1</td>\n",
       "    </tr>\n",
       "    <tr>\n",
       "      <th>11</th>\n",
       "      <td>open_acc</td>\n",
       "      <td>1</td>\n",
       "    </tr>\n",
       "    <tr>\n",
       "      <th>12</th>\n",
       "      <td>pub_rec</td>\n",
       "      <td>1</td>\n",
       "    </tr>\n",
       "    <tr>\n",
       "      <th>13</th>\n",
       "      <td>revol_bal</td>\n",
       "      <td>1</td>\n",
       "    </tr>\n",
       "    <tr>\n",
       "      <th>14</th>\n",
       "      <td>revol_util</td>\n",
       "      <td>1</td>\n",
       "    </tr>\n",
       "    <tr>\n",
       "      <th>15</th>\n",
       "      <td>total_acc</td>\n",
       "      <td>1</td>\n",
       "    </tr>\n",
       "    <tr>\n",
       "      <th>16</th>\n",
       "      <td>total_rec_int</td>\n",
       "      <td>1</td>\n",
       "    </tr>\n",
       "    <tr>\n",
       "      <th>17</th>\n",
       "      <td>total_rec_late_fee</td>\n",
       "      <td>1</td>\n",
       "    </tr>\n",
       "    <tr>\n",
       "      <th>18</th>\n",
       "      <td>recoveries</td>\n",
       "      <td>1</td>\n",
       "    </tr>\n",
       "    <tr>\n",
       "      <th>19</th>\n",
       "      <td>collection_recovery_fee</td>\n",
       "      <td>1</td>\n",
       "    </tr>\n",
       "    <tr>\n",
       "      <th>20</th>\n",
       "      <td>last_week_pay</td>\n",
       "      <td>1</td>\n",
       "    </tr>\n",
       "    <tr>\n",
       "      <th>21</th>\n",
       "      <td>acc_now_delinq</td>\n",
       "      <td>5</td>\n",
       "    </tr>\n",
       "    <tr>\n",
       "      <th>22</th>\n",
       "      <td>tot_coll_amt</td>\n",
       "      <td>1</td>\n",
       "    </tr>\n",
       "    <tr>\n",
       "      <th>23</th>\n",
       "      <td>tot_cur_bal</td>\n",
       "      <td>1</td>\n",
       "    </tr>\n",
       "    <tr>\n",
       "      <th>24</th>\n",
       "      <td>total_rev_hi_lim</td>\n",
       "      <td>1</td>\n",
       "    </tr>\n",
       "    <tr>\n",
       "      <th>25</th>\n",
       "      <td>grade_B</td>\n",
       "      <td>1</td>\n",
       "    </tr>\n",
       "    <tr>\n",
       "      <th>26</th>\n",
       "      <td>grade_C</td>\n",
       "      <td>1</td>\n",
       "    </tr>\n",
       "    <tr>\n",
       "      <th>27</th>\n",
       "      <td>grade_D</td>\n",
       "      <td>1</td>\n",
       "    </tr>\n",
       "    <tr>\n",
       "      <th>28</th>\n",
       "      <td>grade_E</td>\n",
       "      <td>1</td>\n",
       "    </tr>\n",
       "    <tr>\n",
       "      <th>29</th>\n",
       "      <td>grade_F</td>\n",
       "      <td>1</td>\n",
       "    </tr>\n",
       "    <tr>\n",
       "      <th>30</th>\n",
       "      <td>grade_G</td>\n",
       "      <td>4</td>\n",
       "    </tr>\n",
       "    <tr>\n",
       "      <th>31</th>\n",
       "      <td>home_ownership_MORTGAGE</td>\n",
       "      <td>1</td>\n",
       "    </tr>\n",
       "    <tr>\n",
       "      <th>32</th>\n",
       "      <td>home_ownership_NONE</td>\n",
       "      <td>8</td>\n",
       "    </tr>\n",
       "    <tr>\n",
       "      <th>33</th>\n",
       "      <td>home_ownership_OTHER</td>\n",
       "      <td>6</td>\n",
       "    </tr>\n",
       "    <tr>\n",
       "      <th>34</th>\n",
       "      <td>home_ownership_OWN</td>\n",
       "      <td>1</td>\n",
       "    </tr>\n",
       "    <tr>\n",
       "      <th>35</th>\n",
       "      <td>home_ownership_RENT</td>\n",
       "      <td>1</td>\n",
       "    </tr>\n",
       "    <tr>\n",
       "      <th>36</th>\n",
       "      <td>verification_status_Source Verified</td>\n",
       "      <td>1</td>\n",
       "    </tr>\n",
       "    <tr>\n",
       "      <th>37</th>\n",
       "      <td>verification_status_Verified</td>\n",
       "      <td>1</td>\n",
       "    </tr>\n",
       "    <tr>\n",
       "      <th>38</th>\n",
       "      <td>purpose_House Loan</td>\n",
       "      <td>1</td>\n",
       "    </tr>\n",
       "    <tr>\n",
       "      <th>39</th>\n",
       "      <td>purpose_Personal</td>\n",
       "      <td>1</td>\n",
       "    </tr>\n",
       "    <tr>\n",
       "      <th>40</th>\n",
       "      <td>purpose_credit_card</td>\n",
       "      <td>1</td>\n",
       "    </tr>\n",
       "    <tr>\n",
       "      <th>41</th>\n",
       "      <td>purpose_debt_consolidation</td>\n",
       "      <td>1</td>\n",
       "    </tr>\n",
       "    <tr>\n",
       "      <th>42</th>\n",
       "      <td>purpose_educational</td>\n",
       "      <td>7</td>\n",
       "    </tr>\n",
       "    <tr>\n",
       "      <th>43</th>\n",
       "      <td>addr_state_zone2</td>\n",
       "      <td>1</td>\n",
       "    </tr>\n",
       "    <tr>\n",
       "      <th>44</th>\n",
       "      <td>addr_state_zone3</td>\n",
       "      <td>1</td>\n",
       "    </tr>\n",
       "    <tr>\n",
       "      <th>45</th>\n",
       "      <td>addr_state_zone4</td>\n",
       "      <td>1</td>\n",
       "    </tr>\n",
       "    <tr>\n",
       "      <th>46</th>\n",
       "      <td>addr_state_zone5</td>\n",
       "      <td>1</td>\n",
       "    </tr>\n",
       "    <tr>\n",
       "      <th>47</th>\n",
       "      <td>initial_list_status_w</td>\n",
       "      <td>1</td>\n",
       "    </tr>\n",
       "    <tr>\n",
       "      <th>48</th>\n",
       "      <td>application_type_JOINT</td>\n",
       "      <td>9</td>\n",
       "    </tr>\n",
       "    <tr>\n",
       "      <th>49</th>\n",
       "      <td>Driver</td>\n",
       "      <td>1</td>\n",
       "    </tr>\n",
       "    <tr>\n",
       "      <th>50</th>\n",
       "      <td>Engineer</td>\n",
       "      <td>1</td>\n",
       "    </tr>\n",
       "    <tr>\n",
       "      <th>51</th>\n",
       "      <td>Manager</td>\n",
       "      <td>1</td>\n",
       "    </tr>\n",
       "    <tr>\n",
       "      <th>52</th>\n",
       "      <td>Not Available</td>\n",
       "      <td>1</td>\n",
       "    </tr>\n",
       "    <tr>\n",
       "      <th>53</th>\n",
       "      <td>Nurse</td>\n",
       "      <td>3</td>\n",
       "    </tr>\n",
       "    <tr>\n",
       "      <th>54</th>\n",
       "      <td>Others</td>\n",
       "      <td>1</td>\n",
       "    </tr>\n",
       "    <tr>\n",
       "      <th>55</th>\n",
       "      <td>Owner</td>\n",
       "      <td>2</td>\n",
       "    </tr>\n",
       "    <tr>\n",
       "      <th>56</th>\n",
       "      <td>Public Coordinator</td>\n",
       "      <td>1</td>\n",
       "    </tr>\n",
       "    <tr>\n",
       "      <th>57</th>\n",
       "      <td>Technician</td>\n",
       "      <td>1</td>\n",
       "    </tr>\n",
       "  </tbody>\n",
       "</table>\n",
       "</div>"
      ],
      "text/plain": [
       "                                      0  1\n",
       "0                             member_id  1\n",
       "1                             loan_amnt  1\n",
       "2                       funded_amnt_inv  1\n",
       "3                                  term  1\n",
       "4                              int_rate  1\n",
       "5                            emp_length  1\n",
       "6                            annual_inc  1\n",
       "7                                   dti  1\n",
       "8                           delinq_2yrs  1\n",
       "9                        inq_last_6mths  1\n",
       "10               mths_since_last_delinq  1\n",
       "11                             open_acc  1\n",
       "12                              pub_rec  1\n",
       "13                            revol_bal  1\n",
       "14                           revol_util  1\n",
       "15                            total_acc  1\n",
       "16                        total_rec_int  1\n",
       "17                   total_rec_late_fee  1\n",
       "18                           recoveries  1\n",
       "19              collection_recovery_fee  1\n",
       "20                        last_week_pay  1\n",
       "21                       acc_now_delinq  5\n",
       "22                         tot_coll_amt  1\n",
       "23                          tot_cur_bal  1\n",
       "24                     total_rev_hi_lim  1\n",
       "25                              grade_B  1\n",
       "26                              grade_C  1\n",
       "27                              grade_D  1\n",
       "28                              grade_E  1\n",
       "29                              grade_F  1\n",
       "30                              grade_G  4\n",
       "31              home_ownership_MORTGAGE  1\n",
       "32                  home_ownership_NONE  8\n",
       "33                 home_ownership_OTHER  6\n",
       "34                   home_ownership_OWN  1\n",
       "35                  home_ownership_RENT  1\n",
       "36  verification_status_Source Verified  1\n",
       "37         verification_status_Verified  1\n",
       "38                   purpose_House Loan  1\n",
       "39                     purpose_Personal  1\n",
       "40                  purpose_credit_card  1\n",
       "41           purpose_debt_consolidation  1\n",
       "42                  purpose_educational  7\n",
       "43                     addr_state_zone2  1\n",
       "44                     addr_state_zone3  1\n",
       "45                     addr_state_zone4  1\n",
       "46                     addr_state_zone5  1\n",
       "47                initial_list_status_w  1\n",
       "48               application_type_JOINT  9\n",
       "49                               Driver  1\n",
       "50                             Engineer  1\n",
       "51                              Manager  1\n",
       "52                        Not Available  1\n",
       "53                                Nurse  3\n",
       "54                               Others  1\n",
       "55                                Owner  2\n",
       "56                   Public Coordinator  1\n",
       "57                           Technician  1"
      ]
     },
     "execution_count": 31,
     "metadata": {},
     "output_type": "execute_result"
    }
   ],
   "source": [
    "pd.DataFrame([x_train.columns,rfe.ranking_]).T"
   ]
  },
  {
   "cell_type": "code",
   "execution_count": 32,
   "metadata": {},
   "outputs": [],
   "source": [
    "rfe_df = df.drop(columns=['acc_now_delinq','grade_G','home_ownership_NONE','home_ownership_OTHER','purpose_educational','application_type_JOINT','Nurse','Owner'])"
   ]
  },
  {
   "cell_type": "code",
   "execution_count": 33,
   "metadata": {},
   "outputs": [
    {
     "data": {
      "text/plain": [
       "(63730, 51)"
      ]
     },
     "execution_count": 33,
     "metadata": {},
     "output_type": "execute_result"
    }
   ],
   "source": [
    "rfe_df.shape"
   ]
  },
  {
   "cell_type": "code",
   "execution_count": 34,
   "metadata": {},
   "outputs": [],
   "source": [
    "xrfe = rfe_df.drop(columns=['loan_status'])\n",
    "yrfe = rfe_df['loan_status']"
   ]
  },
  {
   "cell_type": "code",
   "execution_count": 35,
   "metadata": {},
   "outputs": [],
   "source": [
    "xrfe_train,xrfe_test,yrfe_train,yrfe_test = train_test_split(xrfe,yrfe,test_size=0.25,random_state=1)"
   ]
  },
  {
   "cell_type": "code",
   "execution_count": 36,
   "metadata": {},
   "outputs": [],
   "source": [
    "rf2 = RandomForestClassifier(**rsvrf.best_params_).fit(xrfe_train,yrfe_train)"
   ]
  },
  {
   "cell_type": "code",
   "execution_count": 37,
   "metadata": {},
   "outputs": [],
   "source": [
    "y_tr1_pred = rf2.predict(xrfe_train)"
   ]
  },
  {
   "cell_type": "code",
   "execution_count": 38,
   "metadata": {},
   "outputs": [
    {
     "data": {
      "text/plain": [
       "0.9520262777998619"
      ]
     },
     "execution_count": 38,
     "metadata": {},
     "output_type": "execute_result"
    }
   ],
   "source": [
    "accuracy_score(y_train,y_tr1_pred)"
   ]
  },
  {
   "cell_type": "code",
   "execution_count": 41,
   "metadata": {},
   "outputs": [
    {
     "name": "stdout",
     "output_type": "stream",
     "text": [
      "              precision    recall  f1-score   support\n",
      "\n",
      "           0       0.95      0.99      0.97     36479\n",
      "           1       0.96      0.84      0.89     11318\n",
      "\n",
      "    accuracy                           0.95     47797\n",
      "   macro avg       0.95      0.91      0.93     47797\n",
      "weighted avg       0.95      0.95      0.95     47797\n",
      "\n"
     ]
    }
   ],
   "source": [
    "print(classification_report(yrfe_train,y_tr1_pred))"
   ]
  },
  {
   "cell_type": "code",
   "execution_count": 40,
   "metadata": {},
   "outputs": [],
   "source": [
    "y_ta1_pred = rf2.predict(xrfe_test)"
   ]
  },
  {
   "cell_type": "code",
   "execution_count": 42,
   "metadata": {},
   "outputs": [
    {
     "data": {
      "text/plain": [
       "0.9076131299817988"
      ]
     },
     "execution_count": 42,
     "metadata": {},
     "output_type": "execute_result"
    }
   ],
   "source": [
    "accuracy_score(yrfe_test,y_ta1_pred)"
   ]
  },
  {
   "cell_type": "code",
   "execution_count": 43,
   "metadata": {},
   "outputs": [
    {
     "name": "stdout",
     "output_type": "stream",
     "text": [
      "              precision    recall  f1-score   support\n",
      "\n",
      "           0       0.91      0.98      0.94     12098\n",
      "           1       0.90      0.69      0.78      3835\n",
      "\n",
      "    accuracy                           0.91     15933\n",
      "   macro avg       0.91      0.83      0.86     15933\n",
      "weighted avg       0.91      0.91      0.90     15933\n",
      "\n"
     ]
    }
   ],
   "source": [
    "print(classification_report(yrfe_test,y_ta1_pred))"
   ]
  },
  {
   "cell_type": "code",
   "execution_count": 44,
   "metadata": {},
   "outputs": [],
   "source": [
    "rfe1 = RFE(rf1,55).fit(x_train,y_train)"
   ]
  },
  {
   "cell_type": "code",
   "execution_count": 45,
   "metadata": {},
   "outputs": [
    {
     "data": {
      "text/html": [
       "<div>\n",
       "<style scoped>\n",
       "    .dataframe tbody tr th:only-of-type {\n",
       "        vertical-align: middle;\n",
       "    }\n",
       "\n",
       "    .dataframe tbody tr th {\n",
       "        vertical-align: top;\n",
       "    }\n",
       "\n",
       "    .dataframe thead th {\n",
       "        text-align: right;\n",
       "    }\n",
       "</style>\n",
       "<table border=\"1\" class=\"dataframe\">\n",
       "  <thead>\n",
       "    <tr style=\"text-align: right;\">\n",
       "      <th></th>\n",
       "      <th>0</th>\n",
       "      <th>1</th>\n",
       "    </tr>\n",
       "  </thead>\n",
       "  <tbody>\n",
       "    <tr>\n",
       "      <th>0</th>\n",
       "      <td>member_id</td>\n",
       "      <td>1</td>\n",
       "    </tr>\n",
       "    <tr>\n",
       "      <th>1</th>\n",
       "      <td>loan_amnt</td>\n",
       "      <td>1</td>\n",
       "    </tr>\n",
       "    <tr>\n",
       "      <th>2</th>\n",
       "      <td>funded_amnt_inv</td>\n",
       "      <td>1</td>\n",
       "    </tr>\n",
       "    <tr>\n",
       "      <th>3</th>\n",
       "      <td>term</td>\n",
       "      <td>1</td>\n",
       "    </tr>\n",
       "    <tr>\n",
       "      <th>4</th>\n",
       "      <td>int_rate</td>\n",
       "      <td>1</td>\n",
       "    </tr>\n",
       "    <tr>\n",
       "      <th>5</th>\n",
       "      <td>emp_length</td>\n",
       "      <td>1</td>\n",
       "    </tr>\n",
       "    <tr>\n",
       "      <th>6</th>\n",
       "      <td>annual_inc</td>\n",
       "      <td>1</td>\n",
       "    </tr>\n",
       "    <tr>\n",
       "      <th>7</th>\n",
       "      <td>dti</td>\n",
       "      <td>1</td>\n",
       "    </tr>\n",
       "    <tr>\n",
       "      <th>8</th>\n",
       "      <td>delinq_2yrs</td>\n",
       "      <td>1</td>\n",
       "    </tr>\n",
       "    <tr>\n",
       "      <th>9</th>\n",
       "      <td>inq_last_6mths</td>\n",
       "      <td>1</td>\n",
       "    </tr>\n",
       "    <tr>\n",
       "      <th>10</th>\n",
       "      <td>mths_since_last_delinq</td>\n",
       "      <td>1</td>\n",
       "    </tr>\n",
       "    <tr>\n",
       "      <th>11</th>\n",
       "      <td>open_acc</td>\n",
       "      <td>1</td>\n",
       "    </tr>\n",
       "    <tr>\n",
       "      <th>12</th>\n",
       "      <td>pub_rec</td>\n",
       "      <td>1</td>\n",
       "    </tr>\n",
       "    <tr>\n",
       "      <th>13</th>\n",
       "      <td>revol_bal</td>\n",
       "      <td>1</td>\n",
       "    </tr>\n",
       "    <tr>\n",
       "      <th>14</th>\n",
       "      <td>revol_util</td>\n",
       "      <td>1</td>\n",
       "    </tr>\n",
       "    <tr>\n",
       "      <th>15</th>\n",
       "      <td>total_acc</td>\n",
       "      <td>1</td>\n",
       "    </tr>\n",
       "    <tr>\n",
       "      <th>16</th>\n",
       "      <td>total_rec_int</td>\n",
       "      <td>1</td>\n",
       "    </tr>\n",
       "    <tr>\n",
       "      <th>17</th>\n",
       "      <td>total_rec_late_fee</td>\n",
       "      <td>1</td>\n",
       "    </tr>\n",
       "    <tr>\n",
       "      <th>18</th>\n",
       "      <td>recoveries</td>\n",
       "      <td>1</td>\n",
       "    </tr>\n",
       "    <tr>\n",
       "      <th>19</th>\n",
       "      <td>collection_recovery_fee</td>\n",
       "      <td>1</td>\n",
       "    </tr>\n",
       "    <tr>\n",
       "      <th>20</th>\n",
       "      <td>last_week_pay</td>\n",
       "      <td>1</td>\n",
       "    </tr>\n",
       "    <tr>\n",
       "      <th>21</th>\n",
       "      <td>acc_now_delinq</td>\n",
       "      <td>1</td>\n",
       "    </tr>\n",
       "    <tr>\n",
       "      <th>22</th>\n",
       "      <td>tot_coll_amt</td>\n",
       "      <td>1</td>\n",
       "    </tr>\n",
       "    <tr>\n",
       "      <th>23</th>\n",
       "      <td>tot_cur_bal</td>\n",
       "      <td>1</td>\n",
       "    </tr>\n",
       "    <tr>\n",
       "      <th>24</th>\n",
       "      <td>total_rev_hi_lim</td>\n",
       "      <td>1</td>\n",
       "    </tr>\n",
       "    <tr>\n",
       "      <th>25</th>\n",
       "      <td>grade_B</td>\n",
       "      <td>1</td>\n",
       "    </tr>\n",
       "    <tr>\n",
       "      <th>26</th>\n",
       "      <td>grade_C</td>\n",
       "      <td>1</td>\n",
       "    </tr>\n",
       "    <tr>\n",
       "      <th>27</th>\n",
       "      <td>grade_D</td>\n",
       "      <td>1</td>\n",
       "    </tr>\n",
       "    <tr>\n",
       "      <th>28</th>\n",
       "      <td>grade_E</td>\n",
       "      <td>1</td>\n",
       "    </tr>\n",
       "    <tr>\n",
       "      <th>29</th>\n",
       "      <td>grade_F</td>\n",
       "      <td>1</td>\n",
       "    </tr>\n",
       "    <tr>\n",
       "      <th>30</th>\n",
       "      <td>grade_G</td>\n",
       "      <td>1</td>\n",
       "    </tr>\n",
       "    <tr>\n",
       "      <th>31</th>\n",
       "      <td>home_ownership_MORTGAGE</td>\n",
       "      <td>1</td>\n",
       "    </tr>\n",
       "    <tr>\n",
       "      <th>32</th>\n",
       "      <td>home_ownership_NONE</td>\n",
       "      <td>3</td>\n",
       "    </tr>\n",
       "    <tr>\n",
       "      <th>33</th>\n",
       "      <td>home_ownership_OTHER</td>\n",
       "      <td>1</td>\n",
       "    </tr>\n",
       "    <tr>\n",
       "      <th>34</th>\n",
       "      <td>home_ownership_OWN</td>\n",
       "      <td>1</td>\n",
       "    </tr>\n",
       "    <tr>\n",
       "      <th>35</th>\n",
       "      <td>home_ownership_RENT</td>\n",
       "      <td>1</td>\n",
       "    </tr>\n",
       "    <tr>\n",
       "      <th>36</th>\n",
       "      <td>verification_status_Source Verified</td>\n",
       "      <td>1</td>\n",
       "    </tr>\n",
       "    <tr>\n",
       "      <th>37</th>\n",
       "      <td>verification_status_Verified</td>\n",
       "      <td>1</td>\n",
       "    </tr>\n",
       "    <tr>\n",
       "      <th>38</th>\n",
       "      <td>purpose_House Loan</td>\n",
       "      <td>1</td>\n",
       "    </tr>\n",
       "    <tr>\n",
       "      <th>39</th>\n",
       "      <td>purpose_Personal</td>\n",
       "      <td>1</td>\n",
       "    </tr>\n",
       "    <tr>\n",
       "      <th>40</th>\n",
       "      <td>purpose_credit_card</td>\n",
       "      <td>1</td>\n",
       "    </tr>\n",
       "    <tr>\n",
       "      <th>41</th>\n",
       "      <td>purpose_debt_consolidation</td>\n",
       "      <td>1</td>\n",
       "    </tr>\n",
       "    <tr>\n",
       "      <th>42</th>\n",
       "      <td>purpose_educational</td>\n",
       "      <td>2</td>\n",
       "    </tr>\n",
       "    <tr>\n",
       "      <th>43</th>\n",
       "      <td>addr_state_zone2</td>\n",
       "      <td>1</td>\n",
       "    </tr>\n",
       "    <tr>\n",
       "      <th>44</th>\n",
       "      <td>addr_state_zone3</td>\n",
       "      <td>1</td>\n",
       "    </tr>\n",
       "    <tr>\n",
       "      <th>45</th>\n",
       "      <td>addr_state_zone4</td>\n",
       "      <td>1</td>\n",
       "    </tr>\n",
       "    <tr>\n",
       "      <th>46</th>\n",
       "      <td>addr_state_zone5</td>\n",
       "      <td>1</td>\n",
       "    </tr>\n",
       "    <tr>\n",
       "      <th>47</th>\n",
       "      <td>initial_list_status_w</td>\n",
       "      <td>1</td>\n",
       "    </tr>\n",
       "    <tr>\n",
       "      <th>48</th>\n",
       "      <td>application_type_JOINT</td>\n",
       "      <td>4</td>\n",
       "    </tr>\n",
       "    <tr>\n",
       "      <th>49</th>\n",
       "      <td>Driver</td>\n",
       "      <td>1</td>\n",
       "    </tr>\n",
       "    <tr>\n",
       "      <th>50</th>\n",
       "      <td>Engineer</td>\n",
       "      <td>1</td>\n",
       "    </tr>\n",
       "    <tr>\n",
       "      <th>51</th>\n",
       "      <td>Manager</td>\n",
       "      <td>1</td>\n",
       "    </tr>\n",
       "    <tr>\n",
       "      <th>52</th>\n",
       "      <td>Not Available</td>\n",
       "      <td>1</td>\n",
       "    </tr>\n",
       "    <tr>\n",
       "      <th>53</th>\n",
       "      <td>Nurse</td>\n",
       "      <td>1</td>\n",
       "    </tr>\n",
       "    <tr>\n",
       "      <th>54</th>\n",
       "      <td>Others</td>\n",
       "      <td>1</td>\n",
       "    </tr>\n",
       "    <tr>\n",
       "      <th>55</th>\n",
       "      <td>Owner</td>\n",
       "      <td>1</td>\n",
       "    </tr>\n",
       "    <tr>\n",
       "      <th>56</th>\n",
       "      <td>Public Coordinator</td>\n",
       "      <td>1</td>\n",
       "    </tr>\n",
       "    <tr>\n",
       "      <th>57</th>\n",
       "      <td>Technician</td>\n",
       "      <td>1</td>\n",
       "    </tr>\n",
       "  </tbody>\n",
       "</table>\n",
       "</div>"
      ],
      "text/plain": [
       "                                      0  1\n",
       "0                             member_id  1\n",
       "1                             loan_amnt  1\n",
       "2                       funded_amnt_inv  1\n",
       "3                                  term  1\n",
       "4                              int_rate  1\n",
       "5                            emp_length  1\n",
       "6                            annual_inc  1\n",
       "7                                   dti  1\n",
       "8                           delinq_2yrs  1\n",
       "9                        inq_last_6mths  1\n",
       "10               mths_since_last_delinq  1\n",
       "11                             open_acc  1\n",
       "12                              pub_rec  1\n",
       "13                            revol_bal  1\n",
       "14                           revol_util  1\n",
       "15                            total_acc  1\n",
       "16                        total_rec_int  1\n",
       "17                   total_rec_late_fee  1\n",
       "18                           recoveries  1\n",
       "19              collection_recovery_fee  1\n",
       "20                        last_week_pay  1\n",
       "21                       acc_now_delinq  1\n",
       "22                         tot_coll_amt  1\n",
       "23                          tot_cur_bal  1\n",
       "24                     total_rev_hi_lim  1\n",
       "25                              grade_B  1\n",
       "26                              grade_C  1\n",
       "27                              grade_D  1\n",
       "28                              grade_E  1\n",
       "29                              grade_F  1\n",
       "30                              grade_G  1\n",
       "31              home_ownership_MORTGAGE  1\n",
       "32                  home_ownership_NONE  3\n",
       "33                 home_ownership_OTHER  1\n",
       "34                   home_ownership_OWN  1\n",
       "35                  home_ownership_RENT  1\n",
       "36  verification_status_Source Verified  1\n",
       "37         verification_status_Verified  1\n",
       "38                   purpose_House Loan  1\n",
       "39                     purpose_Personal  1\n",
       "40                  purpose_credit_card  1\n",
       "41           purpose_debt_consolidation  1\n",
       "42                  purpose_educational  2\n",
       "43                     addr_state_zone2  1\n",
       "44                     addr_state_zone3  1\n",
       "45                     addr_state_zone4  1\n",
       "46                     addr_state_zone5  1\n",
       "47                initial_list_status_w  1\n",
       "48               application_type_JOINT  4\n",
       "49                               Driver  1\n",
       "50                             Engineer  1\n",
       "51                              Manager  1\n",
       "52                        Not Available  1\n",
       "53                                Nurse  1\n",
       "54                               Others  1\n",
       "55                                Owner  1\n",
       "56                   Public Coordinator  1\n",
       "57                           Technician  1"
      ]
     },
     "execution_count": 45,
     "metadata": {},
     "output_type": "execute_result"
    }
   ],
   "source": [
    "pd.DataFrame([x_train.columns,rfe1.ranking_]).T"
   ]
  },
  {
   "cell_type": "code",
   "execution_count": 46,
   "metadata": {},
   "outputs": [],
   "source": [
    "rfe_df1 = df.drop(columns=['home_ownership_NONE','purpose_educational','application_type_JOINT'])"
   ]
  },
  {
   "cell_type": "code",
   "execution_count": 47,
   "metadata": {},
   "outputs": [],
   "source": [
    "xrfe1 = rfe_df1.drop(columns=['loan_status'])\n",
    "yrfe1 = rfe_df1['loan_status']"
   ]
  },
  {
   "cell_type": "code",
   "execution_count": 48,
   "metadata": {},
   "outputs": [],
   "source": [
    "xrfe_train1,xrfe_test1,yrfe_train1,yrfe_test1 = train_test_split(xrfe1,yrfe1,test_size=0.25,random_state=1)"
   ]
  },
  {
   "cell_type": "code",
   "execution_count": 49,
   "metadata": {},
   "outputs": [],
   "source": [
    "rf3 = RandomForestClassifier(**rsvrf.best_params_).fit(xrfe_train1,yrfe_train1)"
   ]
  },
  {
   "cell_type": "code",
   "execution_count": 50,
   "metadata": {},
   "outputs": [],
   "source": [
    "y_tr2_pred = rf3.predict(xrfe_train1)"
   ]
  },
  {
   "cell_type": "code",
   "execution_count": 51,
   "metadata": {},
   "outputs": [
    {
     "data": {
      "text/plain": [
       "0.950498985291964"
      ]
     },
     "execution_count": 51,
     "metadata": {},
     "output_type": "execute_result"
    }
   ],
   "source": [
    "accuracy_score(yrfe_train1,y_tr2_pred)"
   ]
  },
  {
   "cell_type": "code",
   "execution_count": 52,
   "metadata": {},
   "outputs": [
    {
     "name": "stdout",
     "output_type": "stream",
     "text": [
      "              precision    recall  f1-score   support\n",
      "\n",
      "           0       0.95      0.99      0.97     36479\n",
      "           1       0.96      0.83      0.89     11318\n",
      "\n",
      "    accuracy                           0.95     47797\n",
      "   macro avg       0.95      0.91      0.93     47797\n",
      "weighted avg       0.95      0.95      0.95     47797\n",
      "\n"
     ]
    }
   ],
   "source": [
    "print(classification_report(yrfe_train1,y_tr2_pred))"
   ]
  },
  {
   "cell_type": "code",
   "execution_count": 53,
   "metadata": {},
   "outputs": [],
   "source": [
    "y_ta_pred2 = rf3.predict(xrfe_test1)"
   ]
  },
  {
   "cell_type": "code",
   "execution_count": 54,
   "metadata": {},
   "outputs": [
    {
     "data": {
      "text/plain": [
       "0.9035963095462248"
      ]
     },
     "execution_count": 54,
     "metadata": {},
     "output_type": "execute_result"
    }
   ],
   "source": [
    "accuracy_score(y_test,y_ta_pred2)"
   ]
  },
  {
   "cell_type": "code",
   "execution_count": 56,
   "metadata": {},
   "outputs": [
    {
     "name": "stdout",
     "output_type": "stream",
     "text": [
      "              precision    recall  f1-score   support\n",
      "\n",
      "           0       0.90      0.98      0.94     12098\n",
      "           1       0.90      0.67      0.77      3835\n",
      "\n",
      "    accuracy                           0.90     15933\n",
      "   macro avg       0.90      0.82      0.85     15933\n",
      "weighted avg       0.90      0.90      0.90     15933\n",
      "\n"
     ]
    }
   ],
   "source": [
    "print(classification_report(y_test,y_ta_pred2))"
   ]
  },
  {
   "cell_type": "code",
   "execution_count": null,
   "metadata": {},
   "outputs": [],
   "source": [
    "# logistic reg for rfe"
   ]
  },
  {
   "cell_type": "code",
   "execution_count": 58,
   "metadata": {},
   "outputs": [],
   "source": [
    "from sklearn.linear_model import LogisticRegression"
   ]
  },
  {
   "cell_type": "code",
   "execution_count": 59,
   "metadata": {},
   "outputs": [],
   "source": [
    "lr = LogisticRegression()"
   ]
  },
  {
   "cell_type": "code",
   "execution_count": 60,
   "metadata": {},
   "outputs": [],
   "source": [
    "parmns3={\n",
    "'penalty':['l1', 'l2', 'elasticnet', 'none'],\n",
    "'tol':[0.0001,0.00001,0.000001,0.0000001],\n",
    "'solver':['newton-cg', 'lbfgs', 'liblinear', 'sag', 'saga']}"
   ]
  },
  {
   "cell_type": "code",
   "execution_count": 61,
   "metadata": {},
   "outputs": [],
   "source": [
    "logrsv = RandomizedSearchCV(lr,parmns3,n_iter=50,n_jobs=-1,cv=5).fit(x_train,y_train)"
   ]
  },
  {
   "cell_type": "code",
   "execution_count": 62,
   "metadata": {},
   "outputs": [
    {
     "name": "stderr",
     "output_type": "stream",
     "text": [
      "/Users/zameershaik/Applications/anaconda3/lib/python3.7/site-packages/sklearn/svm/_base.py:947: ConvergenceWarning: Liblinear failed to converge, increase the number of iterations.\n",
      "  \"the number of iterations.\", ConvergenceWarning)\n"
     ]
    }
   ],
   "source": [
    "lr1 = LogisticRegression(**logrsv.best_params_).fit(x_train,y_train)"
   ]
  },
  {
   "cell_type": "code",
   "execution_count": 63,
   "metadata": {},
   "outputs": [],
   "source": [
    "y_train_predloghp = lr1.predict(x_train)"
   ]
  },
  {
   "cell_type": "code",
   "execution_count": 64,
   "metadata": {},
   "outputs": [
    {
     "data": {
      "text/plain": [
       "0.8831307404230391"
      ]
     },
     "execution_count": 64,
     "metadata": {},
     "output_type": "execute_result"
    }
   ],
   "source": [
    "accuracy_score(y_train,y_train_predloghp)"
   ]
  },
  {
   "cell_type": "code",
   "execution_count": 65,
   "metadata": {},
   "outputs": [
    {
     "name": "stdout",
     "output_type": "stream",
     "text": [
      "              precision    recall  f1-score   support\n",
      "\n",
      "           0       0.90      0.96      0.93     36479\n",
      "           1       0.82      0.65      0.72     11318\n",
      "\n",
      "    accuracy                           0.88     47797\n",
      "   macro avg       0.86      0.80      0.82     47797\n",
      "weighted avg       0.88      0.88      0.88     47797\n",
      "\n"
     ]
    }
   ],
   "source": [
    "print(classification_report(y_train,y_train_predloghp))"
   ]
  },
  {
   "cell_type": "code",
   "execution_count": 66,
   "metadata": {},
   "outputs": [],
   "source": [
    "y_test_predloghp = lr1.predict(x_test)"
   ]
  },
  {
   "cell_type": "code",
   "execution_count": 67,
   "metadata": {},
   "outputs": [
    {
     "name": "stdout",
     "output_type": "stream",
     "text": [
      "0.8805623548609803\n"
     ]
    }
   ],
   "source": [
    "print(accuracy_score(y_test,y_test_predloghp))"
   ]
  },
  {
   "cell_type": "code",
   "execution_count": 68,
   "metadata": {},
   "outputs": [
    {
     "name": "stdout",
     "output_type": "stream",
     "text": [
      "              precision    recall  f1-score   support\n",
      "\n",
      "           0       0.90      0.95      0.92     12098\n",
      "           1       0.81      0.65      0.72      3835\n",
      "\n",
      "    accuracy                           0.88     15933\n",
      "   macro avg       0.86      0.80      0.82     15933\n",
      "weighted avg       0.88      0.88      0.88     15933\n",
      "\n"
     ]
    }
   ],
   "source": [
    "print(classification_report(y_test,y_test_predloghp))"
   ]
  },
  {
   "cell_type": "code",
   "execution_count": 69,
   "metadata": {},
   "outputs": [],
   "source": [
    "rfel = RFE(lr1,50).fit(x_train,y_train)"
   ]
  },
  {
   "cell_type": "code",
   "execution_count": 70,
   "metadata": {},
   "outputs": [
    {
     "data": {
      "text/html": [
       "<div>\n",
       "<style scoped>\n",
       "    .dataframe tbody tr th:only-of-type {\n",
       "        vertical-align: middle;\n",
       "    }\n",
       "\n",
       "    .dataframe tbody tr th {\n",
       "        vertical-align: top;\n",
       "    }\n",
       "\n",
       "    .dataframe thead th {\n",
       "        text-align: right;\n",
       "    }\n",
       "</style>\n",
       "<table border=\"1\" class=\"dataframe\">\n",
       "  <thead>\n",
       "    <tr style=\"text-align: right;\">\n",
       "      <th></th>\n",
       "      <th>0</th>\n",
       "      <th>1</th>\n",
       "    </tr>\n",
       "  </thead>\n",
       "  <tbody>\n",
       "    <tr>\n",
       "      <th>0</th>\n",
       "      <td>member_id</td>\n",
       "      <td>1</td>\n",
       "    </tr>\n",
       "    <tr>\n",
       "      <th>1</th>\n",
       "      <td>loan_amnt</td>\n",
       "      <td>1</td>\n",
       "    </tr>\n",
       "    <tr>\n",
       "      <th>2</th>\n",
       "      <td>funded_amnt_inv</td>\n",
       "      <td>1</td>\n",
       "    </tr>\n",
       "    <tr>\n",
       "      <th>3</th>\n",
       "      <td>term</td>\n",
       "      <td>1</td>\n",
       "    </tr>\n",
       "    <tr>\n",
       "      <th>4</th>\n",
       "      <td>int_rate</td>\n",
       "      <td>1</td>\n",
       "    </tr>\n",
       "    <tr>\n",
       "      <th>5</th>\n",
       "      <td>emp_length</td>\n",
       "      <td>1</td>\n",
       "    </tr>\n",
       "    <tr>\n",
       "      <th>6</th>\n",
       "      <td>annual_inc</td>\n",
       "      <td>1</td>\n",
       "    </tr>\n",
       "    <tr>\n",
       "      <th>7</th>\n",
       "      <td>dti</td>\n",
       "      <td>1</td>\n",
       "    </tr>\n",
       "    <tr>\n",
       "      <th>8</th>\n",
       "      <td>delinq_2yrs</td>\n",
       "      <td>1</td>\n",
       "    </tr>\n",
       "    <tr>\n",
       "      <th>9</th>\n",
       "      <td>inq_last_6mths</td>\n",
       "      <td>1</td>\n",
       "    </tr>\n",
       "    <tr>\n",
       "      <th>10</th>\n",
       "      <td>mths_since_last_delinq</td>\n",
       "      <td>1</td>\n",
       "    </tr>\n",
       "    <tr>\n",
       "      <th>11</th>\n",
       "      <td>open_acc</td>\n",
       "      <td>1</td>\n",
       "    </tr>\n",
       "    <tr>\n",
       "      <th>12</th>\n",
       "      <td>pub_rec</td>\n",
       "      <td>1</td>\n",
       "    </tr>\n",
       "    <tr>\n",
       "      <th>13</th>\n",
       "      <td>revol_bal</td>\n",
       "      <td>1</td>\n",
       "    </tr>\n",
       "    <tr>\n",
       "      <th>14</th>\n",
       "      <td>revol_util</td>\n",
       "      <td>1</td>\n",
       "    </tr>\n",
       "    <tr>\n",
       "      <th>15</th>\n",
       "      <td>total_acc</td>\n",
       "      <td>1</td>\n",
       "    </tr>\n",
       "    <tr>\n",
       "      <th>16</th>\n",
       "      <td>total_rec_int</td>\n",
       "      <td>1</td>\n",
       "    </tr>\n",
       "    <tr>\n",
       "      <th>17</th>\n",
       "      <td>total_rec_late_fee</td>\n",
       "      <td>1</td>\n",
       "    </tr>\n",
       "    <tr>\n",
       "      <th>18</th>\n",
       "      <td>recoveries</td>\n",
       "      <td>1</td>\n",
       "    </tr>\n",
       "    <tr>\n",
       "      <th>19</th>\n",
       "      <td>collection_recovery_fee</td>\n",
       "      <td>1</td>\n",
       "    </tr>\n",
       "    <tr>\n",
       "      <th>20</th>\n",
       "      <td>last_week_pay</td>\n",
       "      <td>1</td>\n",
       "    </tr>\n",
       "    <tr>\n",
       "      <th>21</th>\n",
       "      <td>acc_now_delinq</td>\n",
       "      <td>1</td>\n",
       "    </tr>\n",
       "    <tr>\n",
       "      <th>22</th>\n",
       "      <td>tot_coll_amt</td>\n",
       "      <td>1</td>\n",
       "    </tr>\n",
       "    <tr>\n",
       "      <th>23</th>\n",
       "      <td>tot_cur_bal</td>\n",
       "      <td>1</td>\n",
       "    </tr>\n",
       "    <tr>\n",
       "      <th>24</th>\n",
       "      <td>total_rev_hi_lim</td>\n",
       "      <td>1</td>\n",
       "    </tr>\n",
       "    <tr>\n",
       "      <th>25</th>\n",
       "      <td>grade_B</td>\n",
       "      <td>1</td>\n",
       "    </tr>\n",
       "    <tr>\n",
       "      <th>26</th>\n",
       "      <td>grade_C</td>\n",
       "      <td>1</td>\n",
       "    </tr>\n",
       "    <tr>\n",
       "      <th>27</th>\n",
       "      <td>grade_D</td>\n",
       "      <td>1</td>\n",
       "    </tr>\n",
       "    <tr>\n",
       "      <th>28</th>\n",
       "      <td>grade_E</td>\n",
       "      <td>1</td>\n",
       "    </tr>\n",
       "    <tr>\n",
       "      <th>29</th>\n",
       "      <td>grade_F</td>\n",
       "      <td>1</td>\n",
       "    </tr>\n",
       "    <tr>\n",
       "      <th>30</th>\n",
       "      <td>grade_G</td>\n",
       "      <td>1</td>\n",
       "    </tr>\n",
       "    <tr>\n",
       "      <th>31</th>\n",
       "      <td>home_ownership_MORTGAGE</td>\n",
       "      <td>1</td>\n",
       "    </tr>\n",
       "    <tr>\n",
       "      <th>32</th>\n",
       "      <td>home_ownership_NONE</td>\n",
       "      <td>3</td>\n",
       "    </tr>\n",
       "    <tr>\n",
       "      <th>33</th>\n",
       "      <td>home_ownership_OTHER</td>\n",
       "      <td>1</td>\n",
       "    </tr>\n",
       "    <tr>\n",
       "      <th>34</th>\n",
       "      <td>home_ownership_OWN</td>\n",
       "      <td>1</td>\n",
       "    </tr>\n",
       "    <tr>\n",
       "      <th>35</th>\n",
       "      <td>home_ownership_RENT</td>\n",
       "      <td>1</td>\n",
       "    </tr>\n",
       "    <tr>\n",
       "      <th>36</th>\n",
       "      <td>verification_status_Source Verified</td>\n",
       "      <td>1</td>\n",
       "    </tr>\n",
       "    <tr>\n",
       "      <th>37</th>\n",
       "      <td>verification_status_Verified</td>\n",
       "      <td>1</td>\n",
       "    </tr>\n",
       "    <tr>\n",
       "      <th>38</th>\n",
       "      <td>purpose_House Loan</td>\n",
       "      <td>1</td>\n",
       "    </tr>\n",
       "    <tr>\n",
       "      <th>39</th>\n",
       "      <td>purpose_Personal</td>\n",
       "      <td>1</td>\n",
       "    </tr>\n",
       "    <tr>\n",
       "      <th>40</th>\n",
       "      <td>purpose_credit_card</td>\n",
       "      <td>1</td>\n",
       "    </tr>\n",
       "    <tr>\n",
       "      <th>41</th>\n",
       "      <td>purpose_debt_consolidation</td>\n",
       "      <td>1</td>\n",
       "    </tr>\n",
       "    <tr>\n",
       "      <th>42</th>\n",
       "      <td>purpose_educational</td>\n",
       "      <td>2</td>\n",
       "    </tr>\n",
       "    <tr>\n",
       "      <th>43</th>\n",
       "      <td>addr_state_zone2</td>\n",
       "      <td>1</td>\n",
       "    </tr>\n",
       "    <tr>\n",
       "      <th>44</th>\n",
       "      <td>addr_state_zone3</td>\n",
       "      <td>1</td>\n",
       "    </tr>\n",
       "    <tr>\n",
       "      <th>45</th>\n",
       "      <td>addr_state_zone4</td>\n",
       "      <td>1</td>\n",
       "    </tr>\n",
       "    <tr>\n",
       "      <th>46</th>\n",
       "      <td>addr_state_zone5</td>\n",
       "      <td>1</td>\n",
       "    </tr>\n",
       "    <tr>\n",
       "      <th>47</th>\n",
       "      <td>initial_list_status_w</td>\n",
       "      <td>1</td>\n",
       "    </tr>\n",
       "    <tr>\n",
       "      <th>48</th>\n",
       "      <td>application_type_JOINT</td>\n",
       "      <td>4</td>\n",
       "    </tr>\n",
       "    <tr>\n",
       "      <th>49</th>\n",
       "      <td>Driver</td>\n",
       "      <td>1</td>\n",
       "    </tr>\n",
       "    <tr>\n",
       "      <th>50</th>\n",
       "      <td>Engineer</td>\n",
       "      <td>1</td>\n",
       "    </tr>\n",
       "    <tr>\n",
       "      <th>51</th>\n",
       "      <td>Manager</td>\n",
       "      <td>1</td>\n",
       "    </tr>\n",
       "    <tr>\n",
       "      <th>52</th>\n",
       "      <td>Not Available</td>\n",
       "      <td>1</td>\n",
       "    </tr>\n",
       "    <tr>\n",
       "      <th>53</th>\n",
       "      <td>Nurse</td>\n",
       "      <td>1</td>\n",
       "    </tr>\n",
       "    <tr>\n",
       "      <th>54</th>\n",
       "      <td>Others</td>\n",
       "      <td>1</td>\n",
       "    </tr>\n",
       "    <tr>\n",
       "      <th>55</th>\n",
       "      <td>Owner</td>\n",
       "      <td>1</td>\n",
       "    </tr>\n",
       "    <tr>\n",
       "      <th>56</th>\n",
       "      <td>Public Coordinator</td>\n",
       "      <td>1</td>\n",
       "    </tr>\n",
       "    <tr>\n",
       "      <th>57</th>\n",
       "      <td>Technician</td>\n",
       "      <td>1</td>\n",
       "    </tr>\n",
       "  </tbody>\n",
       "</table>\n",
       "</div>"
      ],
      "text/plain": [
       "                                      0  1\n",
       "0                             member_id  1\n",
       "1                             loan_amnt  1\n",
       "2                       funded_amnt_inv  1\n",
       "3                                  term  1\n",
       "4                              int_rate  1\n",
       "5                            emp_length  1\n",
       "6                            annual_inc  1\n",
       "7                                   dti  1\n",
       "8                           delinq_2yrs  1\n",
       "9                        inq_last_6mths  1\n",
       "10               mths_since_last_delinq  1\n",
       "11                             open_acc  1\n",
       "12                              pub_rec  1\n",
       "13                            revol_bal  1\n",
       "14                           revol_util  1\n",
       "15                            total_acc  1\n",
       "16                        total_rec_int  1\n",
       "17                   total_rec_late_fee  1\n",
       "18                           recoveries  1\n",
       "19              collection_recovery_fee  1\n",
       "20                        last_week_pay  1\n",
       "21                       acc_now_delinq  1\n",
       "22                         tot_coll_amt  1\n",
       "23                          tot_cur_bal  1\n",
       "24                     total_rev_hi_lim  1\n",
       "25                              grade_B  1\n",
       "26                              grade_C  1\n",
       "27                              grade_D  1\n",
       "28                              grade_E  1\n",
       "29                              grade_F  1\n",
       "30                              grade_G  1\n",
       "31              home_ownership_MORTGAGE  1\n",
       "32                  home_ownership_NONE  3\n",
       "33                 home_ownership_OTHER  1\n",
       "34                   home_ownership_OWN  1\n",
       "35                  home_ownership_RENT  1\n",
       "36  verification_status_Source Verified  1\n",
       "37         verification_status_Verified  1\n",
       "38                   purpose_House Loan  1\n",
       "39                     purpose_Personal  1\n",
       "40                  purpose_credit_card  1\n",
       "41           purpose_debt_consolidation  1\n",
       "42                  purpose_educational  2\n",
       "43                     addr_state_zone2  1\n",
       "44                     addr_state_zone3  1\n",
       "45                     addr_state_zone4  1\n",
       "46                     addr_state_zone5  1\n",
       "47                initial_list_status_w  1\n",
       "48               application_type_JOINT  4\n",
       "49                               Driver  1\n",
       "50                             Engineer  1\n",
       "51                              Manager  1\n",
       "52                        Not Available  1\n",
       "53                                Nurse  1\n",
       "54                               Others  1\n",
       "55                                Owner  1\n",
       "56                   Public Coordinator  1\n",
       "57                           Technician  1"
      ]
     },
     "execution_count": 70,
     "metadata": {},
     "output_type": "execute_result"
    }
   ],
   "source": [
    "pd.DataFrame([x_train.columns,rfe1.ranking_]).T"
   ]
  },
  {
   "cell_type": "code",
   "execution_count": 71,
   "metadata": {},
   "outputs": [],
   "source": [
    "lr1_df = df.drop(columns=['home_ownership_NONE','purpose_educational','application_type_JOINT'])"
   ]
  },
  {
   "cell_type": "code",
   "execution_count": 72,
   "metadata": {},
   "outputs": [],
   "source": [
    "xrfe3 = lr1_df.drop(columns=['loan_status'])\n",
    "yrfe3 = lr1_df['loan_status']"
   ]
  },
  {
   "cell_type": "code",
   "execution_count": 73,
   "metadata": {},
   "outputs": [],
   "source": [
    "xrfe_train,xrfe_test,yrfe_train,yrfe_test = train_test_split(xrfe3,yrfe3,test_size=0.25,random_state=1)"
   ]
  },
  {
   "cell_type": "code",
   "execution_count": 74,
   "metadata": {},
   "outputs": [],
   "source": [
    "lr2 = LogisticRegression(**logrsv.best_params_).fit(xrfe_train,yrfe_train)"
   ]
  },
  {
   "cell_type": "code",
   "execution_count": 75,
   "metadata": {},
   "outputs": [],
   "source": [
    "ypred_trl = lr2.predict(xrfe_train)"
   ]
  },
  {
   "cell_type": "code",
   "execution_count": 76,
   "metadata": {},
   "outputs": [
    {
     "data": {
      "text/plain": [
       "0.882607695043622"
      ]
     },
     "execution_count": 76,
     "metadata": {},
     "output_type": "execute_result"
    }
   ],
   "source": [
    "accuracy_score(yrfe_train,ypred_trl)"
   ]
  },
  {
   "cell_type": "code",
   "execution_count": 77,
   "metadata": {},
   "outputs": [
    {
     "name": "stdout",
     "output_type": "stream",
     "text": [
      "              precision    recall  f1-score   support\n",
      "\n",
      "           0       0.90      0.96      0.93     36479\n",
      "           1       0.82      0.65      0.72     11318\n",
      "\n",
      "    accuracy                           0.88     47797\n",
      "   macro avg       0.86      0.80      0.82     47797\n",
      "weighted avg       0.88      0.88      0.88     47797\n",
      "\n"
     ]
    }
   ],
   "source": [
    "print(classification_report(yrfe_train,ypred_trl))"
   ]
  },
  {
   "cell_type": "code",
   "execution_count": 78,
   "metadata": {},
   "outputs": [],
   "source": [
    "ypred_te1 = lr2.predict(xrfe_test)"
   ]
  },
  {
   "cell_type": "code",
   "execution_count": 79,
   "metadata": {},
   "outputs": [
    {
     "data": {
      "text/plain": [
       "0.8801230151258395"
      ]
     },
     "execution_count": 79,
     "metadata": {},
     "output_type": "execute_result"
    }
   ],
   "source": [
    "accuracy_score(yrfe_test,ypred_te1)"
   ]
  },
  {
   "cell_type": "code",
   "execution_count": 81,
   "metadata": {},
   "outputs": [
    {
     "name": "stdout",
     "output_type": "stream",
     "text": [
      "              precision    recall  f1-score   support\n",
      "\n",
      "           0       0.90      0.95      0.92     12098\n",
      "           1       0.81      0.65      0.72      3835\n",
      "\n",
      "    accuracy                           0.88     15933\n",
      "   macro avg       0.85      0.80      0.82     15933\n",
      "weighted avg       0.88      0.88      0.88     15933\n",
      "\n"
     ]
    }
   ],
   "source": [
    "print(classification_report(yrfe_test,ypred_te1))"
   ]
  },
  {
   "cell_type": "raw",
   "metadata": {},
   "source": []
  },
  {
   "cell_type": "code",
   "execution_count": 9,
   "metadata": {},
   "outputs": [],
   "source": [
    "from sklearn.neighbors import KNeighborsClassifier"
   ]
  },
  {
   "cell_type": "code",
   "execution_count": 15,
   "metadata": {},
   "outputs": [
    {
     "name": "stdout",
     "output_type": "stream",
     "text": [
      "No of Neighbours: 3\n",
      "0.7846607669616519\n",
      "              precision    recall  f1-score   support\n",
      "\n",
      "           0       0.84      0.88      0.86     12098\n",
      "           1       0.56      0.49      0.52      3835\n",
      "\n",
      "    accuracy                           0.78     15933\n",
      "   macro avg       0.70      0.68      0.69     15933\n",
      "weighted avg       0.78      0.78      0.78     15933\n",
      "\n",
      "No of Neighbours: 4\n",
      "0.8024226448252055\n",
      "              precision    recall  f1-score   support\n",
      "\n",
      "           0       0.83      0.94      0.88     12098\n",
      "           1       0.65      0.38      0.48      3835\n",
      "\n",
      "    accuracy                           0.80     15933\n",
      "   macro avg       0.74      0.66      0.68     15933\n",
      "weighted avg       0.79      0.80      0.78     15933\n",
      "\n",
      "No of Neighbours: 5\n",
      "0.7988451641247725\n",
      "              precision    recall  f1-score   support\n",
      "\n",
      "           0       0.84      0.90      0.87     12098\n",
      "           1       0.60      0.48      0.53      3835\n",
      "\n",
      "    accuracy                           0.80     15933\n",
      "   macro avg       0.72      0.69      0.70     15933\n",
      "weighted avg       0.79      0.80      0.79     15933\n",
      "\n",
      "No of Neighbours: 6\n",
      "0.8101424715998242\n",
      "              precision    recall  f1-score   support\n",
      "\n",
      "           0       0.83      0.94      0.88     12098\n",
      "           1       0.68      0.41      0.51      3835\n",
      "\n",
      "    accuracy                           0.81     15933\n",
      "   macro avg       0.75      0.67      0.70     15933\n",
      "weighted avg       0.80      0.81      0.79     15933\n",
      "\n",
      "No of Neighbours: 7\n",
      "0.8081340613820372\n",
      "              precision    recall  f1-score   support\n",
      "\n",
      "           0       0.85      0.91      0.88     12098\n",
      "           1       0.64      0.47      0.54      3835\n",
      "\n",
      "    accuracy                           0.81     15933\n",
      "   macro avg       0.74      0.69      0.71     15933\n",
      "weighted avg       0.80      0.81      0.80     15933\n",
      "\n",
      "No of Neighbours: 8\n",
      "0.8140965292160924\n",
      "              precision    recall  f1-score   support\n",
      "\n",
      "           0       0.84      0.94      0.88     12098\n",
      "           1       0.69      0.42      0.52      3835\n",
      "\n",
      "    accuracy                           0.81     15933\n",
      "   macro avg       0.76      0.68      0.70     15933\n",
      "weighted avg       0.80      0.81      0.80     15933\n",
      "\n",
      "No of Neighbours: 9\n",
      "0.8108328626121886\n",
      "              precision    recall  f1-score   support\n",
      "\n",
      "           0       0.84      0.92      0.88     12098\n",
      "           1       0.65      0.47      0.54      3835\n",
      "\n",
      "    accuracy                           0.81     15933\n",
      "   macro avg       0.75      0.69      0.71     15933\n",
      "weighted avg       0.80      0.81      0.80     15933\n",
      "\n",
      "No of Neighbours: 10\n",
      "0.8155400740601267\n",
      "              precision    recall  f1-score   support\n",
      "\n",
      "           0       0.84      0.94      0.89     12098\n",
      "           1       0.69      0.43      0.53      3835\n",
      "\n",
      "    accuracy                           0.82     15933\n",
      "   macro avg       0.76      0.68      0.71     15933\n",
      "weighted avg       0.80      0.82      0.80     15933\n",
      "\n",
      "No of Neighbours: 11\n",
      "0.8143475804933158\n",
      "              precision    recall  f1-score   support\n",
      "\n",
      "           0       0.85      0.92      0.88     12098\n",
      "           1       0.66      0.47      0.55      3835\n",
      "\n",
      "    accuracy                           0.81     15933\n",
      "   macro avg       0.75      0.70      0.72     15933\n",
      "weighted avg       0.80      0.81      0.80     15933\n",
      "\n",
      "No of Neighbours: 12\n",
      "0.8184271637481956\n",
      "              precision    recall  f1-score   support\n",
      "\n",
      "           0       0.84      0.94      0.89     12098\n",
      "           1       0.70      0.43      0.53      3835\n",
      "\n",
      "    accuracy                           0.82     15933\n",
      "   macro avg       0.77      0.69      0.71     15933\n",
      "weighted avg       0.81      0.82      0.80     15933\n",
      "\n",
      "No of Neighbours: 13\n",
      "0.8154773112408209\n",
      "              precision    recall  f1-score   support\n",
      "\n",
      "           0       0.84      0.93      0.88     12098\n",
      "           1       0.67      0.46      0.55      3835\n",
      "\n",
      "    accuracy                           0.82     15933\n",
      "   macro avg       0.76      0.69      0.72     15933\n",
      "weighted avg       0.80      0.82      0.80     15933\n",
      "\n",
      "No of Neighbours: 14\n",
      "0.8189292663026423\n",
      "              precision    recall  f1-score   support\n",
      "\n",
      "           0       0.84      0.94      0.89     12098\n",
      "           1       0.70      0.44      0.54      3835\n",
      "\n",
      "    accuracy                           0.82     15933\n",
      "   macro avg       0.77      0.69      0.71     15933\n",
      "weighted avg       0.81      0.82      0.80     15933\n",
      "\n",
      "No of Neighbours: 15\n",
      "0.8167325676269378\n",
      "              precision    recall  f1-score   support\n",
      "\n",
      "           0       0.84      0.93      0.89     12098\n",
      "           1       0.68      0.46      0.55      3835\n",
      "\n",
      "    accuracy                           0.82     15933\n",
      "   macro avg       0.76      0.69      0.72     15933\n",
      "weighted avg       0.80      0.82      0.80     15933\n",
      "\n",
      "No of Neighbours: 16\n",
      "0.8201217598694533\n",
      "              precision    recall  f1-score   support\n",
      "\n",
      "           0       0.84      0.94      0.89     12098\n",
      "           1       0.71      0.43      0.54      3835\n",
      "\n",
      "    accuracy                           0.82     15933\n",
      "   macro avg       0.77      0.69      0.71     15933\n",
      "weighted avg       0.81      0.82      0.80     15933\n",
      "\n",
      "No of Neighbours: 17\n",
      "0.8196196573150066\n",
      "              precision    recall  f1-score   support\n",
      "\n",
      "           0       0.84      0.94      0.89     12098\n",
      "           1       0.69      0.46      0.55      3835\n",
      "\n",
      "    accuracy                           0.82     15933\n",
      "   macro avg       0.77      0.70      0.72     15933\n",
      "weighted avg       0.81      0.82      0.81     15933\n",
      "\n",
      "No of Neighbours: 18\n",
      "0.8217535931714053\n",
      "              precision    recall  f1-score   support\n",
      "\n",
      "           0       0.84      0.94      0.89     12098\n",
      "           1       0.71      0.44      0.54      3835\n",
      "\n",
      "    accuracy                           0.82     15933\n",
      "   macro avg       0.78      0.69      0.72     15933\n",
      "weighted avg       0.81      0.82      0.81     15933\n",
      "\n",
      "No of Neighbours: 19\n",
      "0.8201845226887592\n",
      "              precision    recall  f1-score   support\n",
      "\n",
      "           0       0.84      0.94      0.89     12098\n",
      "           1       0.69      0.45      0.55      3835\n",
      "\n",
      "    accuracy                           0.82     15933\n",
      "   macro avg       0.77      0.69      0.72     15933\n",
      "weighted avg       0.81      0.82      0.81     15933\n",
      "\n"
     ]
    }
   ],
   "source": [
    "for i in range(3,20):\n",
    "    knn = KNeighborsClassifier(i).fit(x_train,y_train)\n",
    "    y_test_pred = knn.predict(x_test)\n",
    "    print('No of Neighbours:',i)\n",
    "    print(accuracy_score(y_test,y_test_pred))\n",
    "    print(classification_report(y_test,y_test_pred))"
   ]
  },
  {
   "cell_type": "code",
   "execution_count": null,
   "metadata": {},
   "outputs": [],
   "source": [
    "# 54\n",
    "# 17\n",
    "\n"
   ]
  },
  {
   "cell_type": "code",
   "execution_count": 16,
   "metadata": {},
   "outputs": [],
   "source": [
    "from sklearn.model_selection import RandomizedSearchCV"
   ]
  },
  {
   "cell_type": "code",
   "execution_count": 11,
   "metadata": {},
   "outputs": [],
   "source": [
    "from scipy.stats import randint as ri"
   ]
  },
  {
   "cell_type": "code",
   "execution_count": 14,
   "metadata": {},
   "outputs": [],
   "source": [
    "    params3={\n",
    "  \n",
    "    'weights':['uniform','distance'],\n",
    "    \n",
    "    'leaf_size':ri(1,100),\n",
    "    'p':ri(1,5),\n",
    "    }"
   ]
  },
  {
   "cell_type": "code",
   "execution_count": 22,
   "metadata": {},
   "outputs": [],
   "source": [
    "from sklearn.preprocessing import StandardScaler"
   ]
  },
  {
   "cell_type": "code",
   "execution_count": 23,
   "metadata": {},
   "outputs": [],
   "source": [
    "ss = StandardScaler()"
   ]
  },
  {
   "cell_type": "code",
   "execution_count": 24,
   "metadata": {},
   "outputs": [],
   "source": [
    "ssx_train = ss.fit_transform(x_train)\n",
    "ssx_test = ss.fit_transform(x_test)"
   ]
  },
  {
   "cell_type": "code",
   "execution_count": 13,
   "metadata": {},
   "outputs": [],
   "source": [
    "knn = KNeighborsClassifier()"
   ]
  },
  {
   "cell_type": "code",
   "execution_count": null,
   "metadata": {},
   "outputs": [],
   "source": [
    "knnhp1 = RandomizedSearchCV(knn,params3).fit(ssx_train,y_train)"
   ]
  },
  {
   "cell_type": "code",
   "execution_count": 18,
   "metadata": {},
   "outputs": [],
   "source": [
    "alg =['auto', 'ball_tree', 'kd_tree', 'brute']"
   ]
  },
  {
   "cell_type": "code",
   "execution_count": 20,
   "metadata": {},
   "outputs": [],
   "source": [
    "from sklearn.metrics import accuracy_score,classification_report"
   ]
  },
  {
   "cell_type": "code",
   "execution_count": 21,
   "metadata": {},
   "outputs": [
    {
     "name": "stdout",
     "output_type": "stream",
     "text": [
      "              precision    recall  f1-score   support\n",
      "\n",
      "           0       0.84      0.95      0.89     36479\n",
      "           1       0.74      0.42      0.54     11318\n",
      "\n",
      "    accuracy                           0.83     47797\n",
      "   macro avg       0.79      0.69      0.72     47797\n",
      "weighted avg       0.82      0.83      0.81     47797\n",
      "\n",
      "              precision    recall  f1-score   support\n",
      "\n",
      "           0       0.84      0.95      0.89     12098\n",
      "           1       0.73      0.43      0.54      3835\n",
      "\n",
      "    accuracy                           0.82     15933\n",
      "   macro avg       0.79      0.69      0.72     15933\n",
      "weighted avg       0.81      0.82      0.81     15933\n",
      "\n",
      "              precision    recall  f1-score   support\n",
      "\n",
      "           0       0.84      0.95      0.89     36479\n",
      "           1       0.74      0.42      0.54     11318\n",
      "\n",
      "    accuracy                           0.83     47797\n",
      "   macro avg       0.79      0.69      0.72     47797\n",
      "weighted avg       0.82      0.83      0.81     47797\n",
      "\n",
      "              precision    recall  f1-score   support\n",
      "\n",
      "           0       0.84      0.95      0.89     12098\n",
      "           1       0.73      0.43      0.54      3835\n",
      "\n",
      "    accuracy                           0.82     15933\n",
      "   macro avg       0.79      0.69      0.72     15933\n",
      "weighted avg       0.81      0.82      0.81     15933\n",
      "\n",
      "              precision    recall  f1-score   support\n",
      "\n",
      "           0       0.84      0.95      0.89     36479\n",
      "           1       0.74      0.42      0.54     11318\n",
      "\n",
      "    accuracy                           0.83     47797\n",
      "   macro avg       0.79      0.69      0.72     47797\n",
      "weighted avg       0.82      0.83      0.81     47797\n",
      "\n",
      "              precision    recall  f1-score   support\n",
      "\n",
      "           0       0.84      0.95      0.89     12098\n",
      "           1       0.73      0.43      0.54      3835\n",
      "\n",
      "    accuracy                           0.82     15933\n",
      "   macro avg       0.79      0.69      0.72     15933\n",
      "weighted avg       0.81      0.82      0.81     15933\n",
      "\n",
      "              precision    recall  f1-score   support\n",
      "\n",
      "           0       0.84      0.95      0.89     36479\n",
      "           1       0.74      0.42      0.54     11318\n",
      "\n",
      "    accuracy                           0.83     47797\n",
      "   macro avg       0.79      0.69      0.72     47797\n",
      "weighted avg       0.82      0.83      0.81     47797\n",
      "\n",
      "              precision    recall  f1-score   support\n",
      "\n",
      "           0       0.84      0.95      0.89     12098\n",
      "           1       0.73      0.43      0.54      3835\n",
      "\n",
      "    accuracy                           0.82     15933\n",
      "   macro avg       0.79      0.69      0.72     15933\n",
      "weighted avg       0.81      0.82      0.81     15933\n",
      "\n"
     ]
    }
   ],
   "source": [
    "for i in alg:\n",
    "    knn12 = KNeighborsClassifier(n_neighbors=54,algorithm=i,**knnhp1.best_params_).fit(ssx_train,y_train)\n",
    "    y_hpknn_trpred = knn12.predict(ssx_train)\n",
    "    accuracy_score(y_train,y_hpknn_trpred)\n",
    "    print(classification_report(y_train,y_hpknn_trpred))\n",
    "    y_hpknn_trpred1 = knn12.predict(ssx_test)\n",
    "    accuracy_score(y_test,y_hpknn_trpred1)\n",
    "    print(classification_report(y_test,y_hpknn_trpred1))\n",
    "    \n",
    "    \n",
    "    "
   ]
  },
  {
   "cell_type": "code",
   "execution_count": null,
   "metadata": {},
   "outputs": [],
   "source": [
    "knnhp1 = KNeighborsClassifier(n_neighbors=54,algorithm=i,**knnhp1.best_params_).fit(x_train,y_train)"
   ]
  }
 ],
 "metadata": {
  "kernelspec": {
   "display_name": "Python 3",
   "language": "python",
   "name": "python3"
  },
  "language_info": {
   "codemirror_mode": {
    "name": "ipython",
    "version": 3
   },
   "file_extension": ".py",
   "mimetype": "text/x-python",
   "name": "python",
   "nbconvert_exporter": "python",
   "pygments_lexer": "ipython3",
   "version": "3.7.3"
  }
 },
 "nbformat": 4,
 "nbformat_minor": 2
}
