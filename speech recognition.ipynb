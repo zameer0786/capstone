{
 "cells": [
  {
   "cell_type": "code",
   "execution_count": 1,
   "metadata": {},
   "outputs": [
    {
     "name": "stdout",
     "output_type": "stream",
     "text": [
      "Collecting SpeechRecognition\n",
      "\u001b[?25l  Downloading https://files.pythonhosted.org/packages/26/e1/7f5678cd94ec1234269d23756dbdaa4c8cfaed973412f88ae8adf7893a50/SpeechRecognition-3.8.1-py2.py3-none-any.whl (32.8MB)\n",
      "\u001b[K     |███████████████████████████████▏| 31.9MB 1.4MB/s eta 0:00:01    |████▋                           | 4.7MB 1.2MB/s eta 0:00:24     |████████████▉                   | 13.1MB 32kB/s eta 0:10:04     |████████████████▉               | 17.3MB 621kB/s eta 0:00:25     |██████████████████████████████▎ | 31.1MB 3.0MB/s eta 0:00:01\u001b[31mERROR: Exception:\n",
      "Traceback (most recent call last):\n",
      "  File \"/Users/zameershaik/Applications/anaconda3/lib/python3.7/site-packages/pip/_vendor/urllib3/contrib/pyopenssl.py\", line 294, in recv_into\n",
      "    return self.connection.recv_into(*args, **kwargs)\n",
      "  File \"/Users/zameershaik/Applications/anaconda3/lib/python3.7/site-packages/OpenSSL/SSL.py\", line 1822, in recv_into\n",
      "    self._raise_ssl_error(self._ssl, result)\n",
      "  File \"/Users/zameershaik/Applications/anaconda3/lib/python3.7/site-packages/OpenSSL/SSL.py\", line 1622, in _raise_ssl_error\n",
      "    raise WantReadError()\n",
      "OpenSSL.SSL.WantReadError\n",
      "\n",
      "During handling of the above exception, another exception occurred:\n",
      "\n",
      "Traceback (most recent call last):\n",
      "  File \"/Users/zameershaik/Applications/anaconda3/lib/python3.7/site-packages/pip/_vendor/urllib3/contrib/pyopenssl.py\", line 294, in recv_into\n",
      "    return self.connection.recv_into(*args, **kwargs)\n",
      "  File \"/Users/zameershaik/Applications/anaconda3/lib/python3.7/site-packages/OpenSSL/SSL.py\", line 1822, in recv_into\n",
      "    self._raise_ssl_error(self._ssl, result)\n",
      "  File \"/Users/zameershaik/Applications/anaconda3/lib/python3.7/site-packages/OpenSSL/SSL.py\", line 1622, in _raise_ssl_error\n",
      "    raise WantReadError()\n",
      "OpenSSL.SSL.WantReadError\n",
      "\n",
      "During handling of the above exception, another exception occurred:\n",
      "\n",
      "Traceback (most recent call last):\n",
      "  File \"/Users/zameershaik/Applications/anaconda3/lib/python3.7/site-packages/pip/_vendor/urllib3/contrib/pyopenssl.py\", line 294, in recv_into\n",
      "    return self.connection.recv_into(*args, **kwargs)\n",
      "  File \"/Users/zameershaik/Applications/anaconda3/lib/python3.7/site-packages/OpenSSL/SSL.py\", line 1822, in recv_into\n",
      "    self._raise_ssl_error(self._ssl, result)\n",
      "  File \"/Users/zameershaik/Applications/anaconda3/lib/python3.7/site-packages/OpenSSL/SSL.py\", line 1622, in _raise_ssl_error\n",
      "    raise WantReadError()\n",
      "OpenSSL.SSL.WantReadError\n",
      "\n",
      "During handling of the above exception, another exception occurred:\n",
      "\n",
      "Traceback (most recent call last):\n",
      "  File \"/Users/zameershaik/Applications/anaconda3/lib/python3.7/site-packages/pip/_vendor/urllib3/contrib/pyopenssl.py\", line 294, in recv_into\n",
      "    return self.connection.recv_into(*args, **kwargs)\n",
      "  File \"/Users/zameershaik/Applications/anaconda3/lib/python3.7/site-packages/OpenSSL/SSL.py\", line 1822, in recv_into\n",
      "    self._raise_ssl_error(self._ssl, result)\n",
      "  File \"/Users/zameershaik/Applications/anaconda3/lib/python3.7/site-packages/OpenSSL/SSL.py\", line 1622, in _raise_ssl_error\n",
      "    raise WantReadError()\n",
      "OpenSSL.SSL.WantReadError\n",
      "\n",
      "During handling of the above exception, another exception occurred:\n",
      "\n",
      "Traceback (most recent call last):\n",
      "  File \"/Users/zameershaik/Applications/anaconda3/lib/python3.7/site-packages/pip/_vendor/urllib3/contrib/pyopenssl.py\", line 294, in recv_into\n",
      "    return self.connection.recv_into(*args, **kwargs)\n",
      "  File \"/Users/zameershaik/Applications/anaconda3/lib/python3.7/site-packages/OpenSSL/SSL.py\", line 1822, in recv_into\n",
      "    self._raise_ssl_error(self._ssl, result)\n",
      "  File \"/Users/zameershaik/Applications/anaconda3/lib/python3.7/site-packages/OpenSSL/SSL.py\", line 1622, in _raise_ssl_error\n",
      "    raise WantReadError()\n",
      "OpenSSL.SSL.WantReadError\n",
      "\n",
      "During handling of the above exception, another exception occurred:\n",
      "\n",
      "Traceback (most recent call last):\n",
      "  File \"/Users/zameershaik/Applications/anaconda3/lib/python3.7/site-packages/pip/_vendor/urllib3/contrib/pyopenssl.py\", line 294, in recv_into\n",
      "    return self.connection.recv_into(*args, **kwargs)\n",
      "  File \"/Users/zameershaik/Applications/anaconda3/lib/python3.7/site-packages/OpenSSL/SSL.py\", line 1822, in recv_into\n",
      "    self._raise_ssl_error(self._ssl, result)\n",
      "  File \"/Users/zameershaik/Applications/anaconda3/lib/python3.7/site-packages/OpenSSL/SSL.py\", line 1622, in _raise_ssl_error\n",
      "    raise WantReadError()\n",
      "OpenSSL.SSL.WantReadError\n",
      "\n",
      "During handling of the above exception, another exception occurred:\n",
      "\n",
      "Traceback (most recent call last):\n",
      "  File \"/Users/zameershaik/Applications/anaconda3/lib/python3.7/site-packages/pip/_vendor/urllib3/response.py\", line 360, in _error_catcher\n",
      "    yield\n",
      "  File \"/Users/zameershaik/Applications/anaconda3/lib/python3.7/site-packages/pip/_vendor/urllib3/response.py\", line 442, in read\n",
      "    data = self._fp.read(amt)\n",
      "  File \"/Users/zameershaik/Applications/anaconda3/lib/python3.7/site-packages/pip/_vendor/cachecontrol/filewrapper.py\", line 62, in read\n",
      "    data = self.__fp.read(amt)\n",
      "  File \"/Users/zameershaik/Applications/anaconda3/lib/python3.7/http/client.py\", line 447, in read\n",
      "    n = self.readinto(b)\n",
      "  File \"/Users/zameershaik/Applications/anaconda3/lib/python3.7/http/client.py\", line 491, in readinto\n",
      "    n = self.fp.readinto(b)\n",
      "  File \"/Users/zameershaik/Applications/anaconda3/lib/python3.7/socket.py\", line 589, in readinto\n",
      "    return self._sock.recv_into(b)\n",
      "  File \"/Users/zameershaik/Applications/anaconda3/lib/python3.7/site-packages/pip/_vendor/urllib3/contrib/pyopenssl.py\", line 309, in recv_into\n",
      "    return self.recv_into(*args, **kwargs)\n",
      "  File \"/Users/zameershaik/Applications/anaconda3/lib/python3.7/site-packages/pip/_vendor/urllib3/contrib/pyopenssl.py\", line 309, in recv_into\n",
      "    return self.recv_into(*args, **kwargs)\n",
      "  File \"/Users/zameershaik/Applications/anaconda3/lib/python3.7/site-packages/pip/_vendor/urllib3/contrib/pyopenssl.py\", line 309, in recv_into\n",
      "    return self.recv_into(*args, **kwargs)\n",
      "  [Previous line repeated 2 more times]\n",
      "  File \"/Users/zameershaik/Applications/anaconda3/lib/python3.7/site-packages/pip/_vendor/urllib3/contrib/pyopenssl.py\", line 307, in recv_into\n",
      "    raise timeout('The read operation timed out')\n",
      "socket.timeout: The read operation timed out\n",
      "\n",
      "During handling of the above exception, another exception occurred:\n",
      "\n",
      "Traceback (most recent call last):\n",
      "  File \"/Users/zameershaik/Applications/anaconda3/lib/python3.7/site-packages/pip/_internal/cli/base_command.py\", line 178, in main\n",
      "    status = self.run(options, args)\n",
      "  File \"/Users/zameershaik/Applications/anaconda3/lib/python3.7/site-packages/pip/_internal/commands/install.py\", line 352, in run\n",
      "    resolver.resolve(requirement_set)\n",
      "  File \"/Users/zameershaik/Applications/anaconda3/lib/python3.7/site-packages/pip/_internal/resolve.py\", line 131, in resolve\n",
      "    self._resolve_one(requirement_set, req)\n",
      "  File \"/Users/zameershaik/Applications/anaconda3/lib/python3.7/site-packages/pip/_internal/resolve.py\", line 294, in _resolve_one\n",
      "    abstract_dist = self._get_abstract_dist_for(req_to_install)\n",
      "  File \"/Users/zameershaik/Applications/anaconda3/lib/python3.7/site-packages/pip/_internal/resolve.py\", line 242, in _get_abstract_dist_for\n",
      "    self.require_hashes\n",
      "  File \"/Users/zameershaik/Applications/anaconda3/lib/python3.7/site-packages/pip/_internal/operations/prepare.py\", line 347, in prepare_linked_requirement\n",
      "    progress_bar=self.progress_bar\n",
      "  File \"/Users/zameershaik/Applications/anaconda3/lib/python3.7/site-packages/pip/_internal/download.py\", line 886, in unpack_url\n",
      "    progress_bar=progress_bar\n",
      "  File \"/Users/zameershaik/Applications/anaconda3/lib/python3.7/site-packages/pip/_internal/download.py\", line 746, in unpack_http_url\n",
      "    progress_bar)\n",
      "  File \"/Users/zameershaik/Applications/anaconda3/lib/python3.7/site-packages/pip/_internal/download.py\", line 954, in _download_http_url\n",
      "    _download_url(resp, link, content_file, hashes, progress_bar)\n",
      "  File \"/Users/zameershaik/Applications/anaconda3/lib/python3.7/site-packages/pip/_internal/download.py\", line 683, in _download_url\n",
      "    hashes.check_against_chunks(downloaded_chunks)\n",
      "  File \"/Users/zameershaik/Applications/anaconda3/lib/python3.7/site-packages/pip/_internal/utils/hashes.py\", line 62, in check_against_chunks\n",
      "    for chunk in chunks:\n",
      "  File \"/Users/zameershaik/Applications/anaconda3/lib/python3.7/site-packages/pip/_internal/download.py\", line 651, in written_chunks\n",
      "    for chunk in chunks:\n",
      "  File \"/Users/zameershaik/Applications/anaconda3/lib/python3.7/site-packages/pip/_internal/utils/ui.py\", line 156, in iter\n",
      "    for x in it:\n",
      "  File \"/Users/zameershaik/Applications/anaconda3/lib/python3.7/site-packages/pip/_internal/download.py\", line 640, in resp_read\n",
      "    decode_content=False):\n",
      "  File \"/Users/zameershaik/Applications/anaconda3/lib/python3.7/site-packages/pip/_vendor/urllib3/response.py\", line 494, in stream\n",
      "    data = self.read(amt=amt, decode_content=decode_content)\n",
      "  File \"/Users/zameershaik/Applications/anaconda3/lib/python3.7/site-packages/pip/_vendor/urllib3/response.py\", line 459, in read\n",
      "    raise IncompleteRead(self._fp_bytes_read, self.length_remaining)\n",
      "  File \"/Users/zameershaik/Applications/anaconda3/lib/python3.7/contextlib.py\", line 130, in __exit__\n",
      "    self.gen.throw(type, value, traceback)\n",
      "  File \"/Users/zameershaik/Applications/anaconda3/lib/python3.7/site-packages/pip/_vendor/urllib3/response.py\", line 365, in _error_catcher\n",
      "    raise ReadTimeoutError(self._pool, None, 'Read timed out.')\n",
      "pip._vendor.urllib3.exceptions.ReadTimeoutError: HTTPSConnectionPool(host='files.pythonhosted.org', port=443): Read timed out.\u001b[0m\n"
     ]
    },
    {
     "name": "stdout",
     "output_type": "stream",
     "text": [
      "Note: you may need to restart the kernel to use updated packages.\n"
     ]
    }
   ],
   "source": [
    "pip install SpeechRecognition"
   ]
  },
  {
   "cell_type": "code",
   "execution_count": 3,
   "metadata": {},
   "outputs": [
    {
     "name": "stdout",
     "output_type": "stream",
     "text": [
      "Collecting pydub\n",
      "\u001b[33m  WARNING: Retrying (Retry(total=4, connect=None, read=None, redirect=None, status=None)) after connection broken by 'NewConnectionError('<pip._vendor.urllib3.connection.VerifiedHTTPSConnection object at 0x7fd83da06b38>: Failed to establish a new connection: [Errno 8] nodename nor servname provided, or not known')': /simple/pydub/\u001b[0m\n",
      "\u001b[33m  WARNING: Retrying (Retry(total=3, connect=None, read=None, redirect=None, status=None)) after connection broken by 'NewConnectionError('<pip._vendor.urllib3.connection.VerifiedHTTPSConnection object at 0x7fd83da064e0>: Failed to establish a new connection: [Errno 8] nodename nor servname provided, or not known')': /simple/pydub/\u001b[0m\n",
      "\u001b[33m  WARNING: Retrying (Retry(total=2, connect=None, read=None, redirect=None, status=None)) after connection broken by 'NewConnectionError('<pip._vendor.urllib3.connection.VerifiedHTTPSConnection object at 0x7fd83da064a8>: Failed to establish a new connection: [Errno 8] nodename nor servname provided, or not known')': /simple/pydub/\u001b[0m\n",
      "\u001b[33m  WARNING: Retrying (Retry(total=1, connect=None, read=None, redirect=None, status=None)) after connection broken by 'NewConnectionError('<pip._vendor.urllib3.connection.VerifiedHTTPSConnection object at 0x7fd83da06588>: Failed to establish a new connection: [Errno 8] nodename nor servname provided, or not known')': /simple/pydub/\u001b[0m\n",
      "\u001b[33m  WARNING: Retrying (Retry(total=0, connect=None, read=None, redirect=None, status=None)) after connection broken by 'NewConnectionError('<pip._vendor.urllib3.connection.VerifiedHTTPSConnection object at 0x7fd83da067f0>: Failed to establish a new connection: [Errno 8] nodename nor servname provided, or not known')': /simple/pydub/\u001b[0m\n",
      "\u001b[31m  ERROR: Could not find a version that satisfies the requirement pydub (from versions: none)\u001b[0m\n",
      "\u001b[31mERROR: No matching distribution found for pydub\u001b[0m\n",
      "Note: you may need to restart the kernel to use updated packages.\n"
     ]
    }
   ],
   "source": [
    "pip install pydub"
   ]
  },
  {
   "cell_type": "code",
   "execution_count": 4,
   "metadata": {},
   "outputs": [
    {
     "name": "stdout",
     "output_type": "stream",
     "text": [
      "Collecting gTTS\n",
      "\u001b[33m  WARNING: Retrying (Retry(total=4, connect=None, read=None, redirect=None, status=None)) after connection broken by 'NewConnectionError('<pip._vendor.urllib3.connection.VerifiedHTTPSConnection object at 0x7ff56c907a20>: Failed to establish a new connection: [Errno 8] nodename nor servname provided, or not known')': /simple/gtts/\u001b[0m\n",
      "\u001b[33m  WARNING: Retrying (Retry(total=3, connect=None, read=None, redirect=None, status=None)) after connection broken by 'NewConnectionError('<pip._vendor.urllib3.connection.VerifiedHTTPSConnection object at 0x7ff56c907b70>: Failed to establish a new connection: [Errno 8] nodename nor servname provided, or not known')': /simple/gtts/\u001b[0m\n",
      "\u001b[33m  WARNING: Retrying (Retry(total=2, connect=None, read=None, redirect=None, status=None)) after connection broken by 'NewConnectionError('<pip._vendor.urllib3.connection.VerifiedHTTPSConnection object at 0x7ff56c907668>: Failed to establish a new connection: [Errno 8] nodename nor servname provided, or not known')': /simple/gtts/\u001b[0m\n",
      "\u001b[33m  WARNING: Retrying (Retry(total=1, connect=None, read=None, redirect=None, status=None)) after connection broken by 'NewConnectionError('<pip._vendor.urllib3.connection.VerifiedHTTPSConnection object at 0x7ff56c907588>: Failed to establish a new connection: [Errno 8] nodename nor servname provided, or not known')': /simple/gtts/\u001b[0m\n",
      "\u001b[33m  WARNING: Retrying (Retry(total=0, connect=None, read=None, redirect=None, status=None)) after connection broken by 'NewConnectionError('<pip._vendor.urllib3.connection.VerifiedHTTPSConnection object at 0x7ff56c907470>: Failed to establish a new connection: [Errno 8] nodename nor servname provided, or not known')': /simple/gtts/\u001b[0m\n",
      "\u001b[31m  ERROR: Could not find a version that satisfies the requirement gTTS (from versions: none)\u001b[0m\n",
      "\u001b[31mERROR: No matching distribution found for gTTS\u001b[0m\n",
      "Note: you may need to restart the kernel to use updated packages.\n"
     ]
    }
   ],
   "source": [
    "pip install gTTS"
   ]
  },
  {
   "cell_type": "code",
   "execution_count": null,
   "metadata": {},
   "outputs": [],
   "source": []
  }
 ],
 "metadata": {
  "kernelspec": {
   "display_name": "Python 3",
   "language": "python",
   "name": "python3"
  },
  "language_info": {
   "codemirror_mode": {
    "name": "ipython",
    "version": 3
   },
   "file_extension": ".py",
   "mimetype": "text/x-python",
   "name": "python",
   "nbconvert_exporter": "python",
   "pygments_lexer": "ipython3",
   "version": "3.7.3"
  }
 },
 "nbformat": 4,
 "nbformat_minor": 2
}
