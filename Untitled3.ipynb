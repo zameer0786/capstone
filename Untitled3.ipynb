{
 "cells": [
  {
   "cell_type": "code",
   "execution_count": 2,
   "metadata": {},
   "outputs": [
    {
     "name": "stdout",
     "output_type": "stream",
     "text": [
      "Collecting gTTS\n",
      "  Downloading https://files.pythonhosted.org/packages/a1/0c/4ca77eca3b739a4a08360930643f58d714e302fee0d2f8c654e67d9af8e7/gTTS-2.1.1-py3-none-any.whl\n",
      "Collecting gtts-token>=1.1.3 (from gTTS)\n",
      "  Downloading https://files.pythonhosted.org/packages/e7/25/ca6e9cd3275bfc3097fe6b06cc31db6d3dfaf32e032e0f73fead9c9a03ce/gTTS-token-1.1.3.tar.gz\n",
      "Requirement already satisfied: six in /Users/zameershaik/Applications/anaconda3/lib/python3.7/site-packages (from gTTS) (1.12.0)\n",
      "Requirement already satisfied: requests in /Users/zameershaik/Applications/anaconda3/lib/python3.7/site-packages (from gTTS) (2.22.0)\n",
      "Requirement already satisfied: beautifulsoup4 in /Users/zameershaik/Applications/anaconda3/lib/python3.7/site-packages (from gTTS) (4.7.1)\n",
      "Requirement already satisfied: click in /Users/zameershaik/Applications/anaconda3/lib/python3.7/site-packages (from gTTS) (7.0)\n",
      "Requirement already satisfied: urllib3!=1.25.0,!=1.25.1,<1.26,>=1.21.1 in /Users/zameershaik/Applications/anaconda3/lib/python3.7/site-packages (from requests->gTTS) (1.24.2)\n",
      "Requirement already satisfied: certifi>=2017.4.17 in /Users/zameershaik/Applications/anaconda3/lib/python3.7/site-packages (from requests->gTTS) (2020.6.20)\n",
      "Requirement already satisfied: idna<2.9,>=2.5 in /Users/zameershaik/Applications/anaconda3/lib/python3.7/site-packages (from requests->gTTS) (2.8)\n",
      "Requirement already satisfied: chardet<3.1.0,>=3.0.2 in /Users/zameershaik/Applications/anaconda3/lib/python3.7/site-packages (from requests->gTTS) (3.0.4)\n",
      "Requirement already satisfied: soupsieve>=1.2 in /Users/zameershaik/Applications/anaconda3/lib/python3.7/site-packages (from beautifulsoup4->gTTS) (1.8)\n",
      "Building wheels for collected packages: gtts-token\n",
      "  Building wheel for gtts-token (setup.py) ... \u001b[?25ldone\n",
      "\u001b[?25h  Stored in directory: /Users/zameershaik/Library/Caches/pip/wheels/dd/11/61/33f7e51bf545e910552b2255eead2a7cd8ef54064b46dceb34\n",
      "Successfully built gtts-token\n",
      "Installing collected packages: gtts-token, gTTS\n",
      "Successfully installed gTTS-2.1.1 gtts-token-1.1.3\n",
      "Note: you may need to restart the kernel to use updated packages.\n"
     ]
    }
   ],
   "source": [
    "pip install gTTS"
   ]
  },
  {
   "cell_type": "code",
   "execution_count": 6,
   "metadata": {},
   "outputs": [
    {
     "name": "stdout",
     "output_type": "stream",
     "text": [
      "Collecting SpeechRecognition\n",
      "\u001b[?25l  Downloading https://files.pythonhosted.org/packages/26/e1/7f5678cd94ec1234269d23756dbdaa4c8cfaed973412f88ae8adf7893a50/SpeechRecognition-3.8.1-py2.py3-none-any.whl (32.8MB)\n",
      "\u001b[K     |████████████████████████████████| 32.8MB 960kB/s eta 0:00:01    |██████▊                         | 6.9MB 929kB/s eta 0:00:28     |████████████████▍               | 16.8MB 596kB/s eta 0:00:27     |█████████████████               | 17.4MB 3.5MB/s eta 0:00:05\n",
      "\u001b[?25hInstalling collected packages: SpeechRecognition\n",
      "Successfully installed SpeechRecognition-3.8.1\n",
      "Note: you may need to restart the kernel to use updated packages.\n"
     ]
    }
   ],
   "source": [
    "pip install SpeechRecognition"
   ]
  },
  {
   "cell_type": "code",
   "execution_count": 23,
   "metadata": {},
   "outputs": [
    {
     "name": "stdout",
     "output_type": "stream",
     "text": [
      "Collecting package metadata (current_repodata.json): done\n",
      "Solving environment: done\n",
      "\n",
      "## Package Plan ##\n",
      "\n",
      "  environment location: /Users/zameershaik/Applications/anaconda3\n",
      "\n",
      "  added / updated specs:\n",
      "    - pyaudio\n",
      "\n",
      "\n",
      "The following packages will be downloaded:\n",
      "\n",
      "    package                    |            build\n",
      "    ---------------------------|-----------------\n",
      "    portaudio-19.6.0           |       h647c56a_4          87 KB  anaconda\n",
      "    pyaudio-0.2.11             |   py37h1de35cc_2         186 KB  anaconda\n",
      "    ------------------------------------------------------------\n",
      "                                           Total:         273 KB\n",
      "\n",
      "The following NEW packages will be INSTALLED:\n",
      "\n",
      "  portaudio          anaconda/osx-64::portaudio-19.6.0-h647c56a_4\n",
      "  pyaudio            anaconda/osx-64::pyaudio-0.2.11-py37h1de35cc_2\n",
      "\n",
      "\n",
      "\n",
      "Downloading and Extracting Packages\n",
      "pyaudio-0.2.11       | 186 KB    | ##################################### | 100% \n",
      "portaudio-19.6.0     | 87 KB     | ##################################### | 100% \n",
      "Preparing transaction: done\n",
      "Verifying transaction: / WARNING conda.core.path_actions:verify(963): Unable to create environments file. Path not writable.\n",
      "  environment location: /Users/zameershaik/.conda/environments.txt\n",
      "\n",
      "done\n",
      "Executing transaction: done\n",
      "\n",
      "Note: you may need to restart the kernel to use updated packages.\n"
     ]
    }
   ],
   "source": [
    "conda install -c anaconda pyaudio"
   ]
  },
  {
   "cell_type": "code",
   "execution_count": 15,
   "metadata": {},
   "outputs": [
    {
     "data": {
      "text/plain": [
       "32512"
      ]
     },
     "execution_count": 15,
     "metadata": {},
     "output_type": "execute_result"
    }
   ],
   "source": [
    "from gtts import gTTS\n",
    "import os\n",
    "tts = gTTS(text='Hello World', lang='en')\n",
    "tts.save(\"hello.mp3\")\n",
    "os.system(\"mpg321 hello.mp3\")"
   ]
  },
  {
   "cell_type": "code",
   "execution_count": null,
   "metadata": {},
   "outputs": [
    {
     "name": "stdout",
     "output_type": "stream",
     "text": [
      "Hi Zameer, what can I do for you?\n",
      "Say something!\n",
      "Google Speech Recognition could not understand audio\n",
      "Say something!\n",
      "Google Speech Recognition could not understand audio\n",
      "Say something!\n",
      "Google Speech Recognition could not understand audio\n",
      "Say something!\n",
      "Google Speech Recognition could not understand audio\n",
      "Say something!\n",
      "You said: who are you\n",
      "Say something!\n",
      "You said: how are you\n",
      "I am fine\n",
      "Say something!\n",
      "Google Speech Recognition could not understand audio\n",
      "Say something!\n"
     ]
    }
   ],
   "source": [
    "#!/usr/bin/env python3\n",
    "# Requires PyAudio and PySpeech.\n",
    "\n",
    "import speech_recognition as sr\n",
    "from time import ctime\n",
    "import time\n",
    "import os\n",
    "from gtts import gTTS\n",
    "\n",
    "def speak(audioString):\n",
    "    print(audioString)\n",
    "    tts = gTTS(text=audioString, lang='en')\n",
    "    tts.save(\"audio.mp3\")\n",
    "    os.system(\"mpg321 audio.mp3\")\n",
    "\n",
    "def recordAudio():\n",
    "    # Record Audio\n",
    "    r = sr.Recognizer()\n",
    "    with sr.Microphone() as source:\n",
    "        print(\"Say something!\")\n",
    "        audio = r.listen(source)\n",
    "\n",
    "    # Speech recognition using Google Speech Recognition\n",
    "    data = \"\"\n",
    "    try:\n",
    "        # Uses the default API key\n",
    "        # To use another API key: `r.recognize_google(audio, key=\"GOOGLE_SPEECH_RECOGNITION_API_KEY\")`\n",
    "        data = r.recognize_google(audio)\n",
    "        print(\"You said: \" + data)\n",
    "    except sr.UnknownValueError:\n",
    "        print(\"Google Speech Recognition could not understand audio\")\n",
    "    except sr.RequestError as e:\n",
    "        print(\"Could not request results from Google Speech Recognition service; {0}\".format(e))\n",
    "\n",
    "    return data\n",
    "\n",
    "def jarvis(data):\n",
    "    if \"how are you\" in data:\n",
    "        speak(\"I am fine\")\n",
    "\n",
    "    if \"what time is it\" in data:\n",
    "        speak(ctime())\n",
    "\n",
    "    if \"where is\" in data:\n",
    "        data = data.split(\" \")\n",
    "        location = data[2]\n",
    "        speak(\"Hold on Zameer, I will show you where \" + location + \" is.\")\n",
    "        os.system(\"chromium-browser https://www.google.nl/maps/place/\" + location + \"/&amp;\")\n",
    "\n",
    "# initialization\n",
    "time.sleep(2)\n",
    "speak(\"Hi Zameer, what can I do for you?\")\n",
    "while 1:\n",
    "    data = recordAudio()\n",
    "    jarvis(data)"
   ]
  },
  {
   "cell_type": "code",
   "execution_count": null,
   "metadata": {},
   "outputs": [],
   "source": []
  }
 ],
 "metadata": {
  "kernelspec": {
   "display_name": "Python 3",
   "language": "python",
   "name": "python3"
  },
  "language_info": {
   "codemirror_mode": {
    "name": "ipython",
    "version": 3
   },
   "file_extension": ".py",
   "mimetype": "text/x-python",
   "name": "python",
   "nbconvert_exporter": "python",
   "pygments_lexer": "ipython3",
   "version": "3.7.3"
  }
 },
 "nbformat": 4,
 "nbformat_minor": 2
}
